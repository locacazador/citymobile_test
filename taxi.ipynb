{
  "nbformat": 4,
  "nbformat_minor": 0,
  "metadata": {
    "colab": {
      "name": "taxi.ipynb",
      "provenance": [],
      "collapsed_sections": [
        "VCHYkwykdHGt",
        "_TtDKt3E_fIJ",
        "vw40uG1xSjMS",
        "kskIYxdedn7b",
        "wtrTPGSFFZW9"
      ],
      "authorship_tag": "ABX9TyOUirHOHSm7jT5W4sG0erbC",
      "include_colab_link": true
    },
    "kernelspec": {
      "name": "python3",
      "display_name": "Python 3"
    },
    "language_info": {
      "name": "python"
    }
  },
  "cells": [
    {
      "cell_type": "markdown",
      "metadata": {
        "id": "view-in-github",
        "colab_type": "text"
      },
      "source": [
        "<a href=\"https://colab.research.google.com/github/locacazador/citymobile_test/blob/master/taxi.ipynb\" target=\"_parent\"><img src=\"https://colab.research.google.com/assets/colab-badge.svg\" alt=\"Open In Colab\"/></a>"
      ]
    },
    {
      "cell_type": "markdown",
      "metadata": {
        "id": "y9kAUu3ciyqS"
      },
      "source": [
        "Используйте данные за декабрь 2019 и январь 2020 года.\n",
        "\n",
        "\n",
        "1. Как стоимость поездки скоррелирована с другими факторами? Как вы это можете объяснить?\n",
        "2. Найдите аномальные поездки. Почему именно эти поездки вы считаете аномальными?\n",
        "3. Постройте распределение по стоимости поездок. Проверьте гипотезу о том, что оно имеет нормальное распределение. Как вы можете это объяснить?\n",
        "4. Из данных постройте модель, которая описывает тариф (т.е. стоимость поездки от других факторов).\n",
        "5. Используя модель из пункта выше ответьте на вопрос: были ли в какие-то дни (или временные промежутки) скидки или акции? И если то были, то как вы можете это объяснить\n",
        "\n"
      ]
    },
    {
      "cell_type": "markdown",
      "metadata": {
        "id": "5jPNZvPcNc7G"
      },
      "source": [
        "# Import data & get from csv"
      ]
    },
    {
      "cell_type": "code",
      "metadata": {
        "id": "1Kp6vbUvOVwz",
        "colab": {
          "base_uri": "https://localhost:8080/"
        },
        "outputId": "907c3a66-06d8-40da-ac58-0006ebaffa62"
      },
      "source": [
        "import pandas as pd \n",
        "import numpy as np\n",
        "import matplotlib.pyplot as plt\n",
        "import seaborn as sns\n",
        "from scipy.stats import shapiro\n",
        "import scipy.stats as st \n",
        "from google.colab import drive\n",
        "import statsmodels.api as sm"
      ],
      "execution_count": null,
      "outputs": [
        {
          "output_type": "stream",
          "text": [
            "/usr/local/lib/python3.7/dist-packages/statsmodels/tools/_testing.py:19: FutureWarning: pandas.util.testing is deprecated. Use the functions in the public API at pandas.testing instead.\n",
            "  import pandas.util.testing as tm\n"
          ],
          "name": "stderr"
        }
      ]
    },
    {
      "cell_type": "code",
      "metadata": {
        "colab": {
          "base_uri": "https://localhost:8080/"
        },
        "id": "xASrlbZoUMBa",
        "outputId": "f71654dc-ad19-4d37-bec9-f3f02b30b4cd"
      },
      "source": [
        "drive.mount('/content/drive')"
      ],
      "execution_count": null,
      "outputs": [
        {
          "output_type": "stream",
          "text": [
            "Mounted at /content/drive\n"
          ],
          "name": "stdout"
        }
      ]
    },
    {
      "cell_type": "code",
      "metadata": {
        "colab": {
          "base_uri": "https://localhost:8080/"
        },
        "id": "JJJfX53TU3OD",
        "outputId": "964fb251-4434-48d8-e1cb-c6fea2bfe4f3"
      },
      "source": [
        "!ls '/content/drive/MyDrive'"
      ],
      "execution_count": null,
      "outputs": [
        {
          "output_type": "stream",
          "text": [
            " 123.rar\t\t   payment.pdf\n",
            "'Colab Notebooks'\t   resnet50_out.csv\n",
            " diploma.pdf\t\t   simple_cnn_baseline.csv\n",
            " DLS\t\t\t   taxi.csv\n",
            " journey-springfield.zip   taxi.pickle\n",
            " mipt\t\t\t   yellow_tripdata_2019-12.csv\n",
            " model_weights.pth\t   yellow_tripdata_2020-01.csv\n"
          ],
          "name": "stdout"
        }
      ]
    },
    {
      "cell_type": "code",
      "metadata": {
        "id": "iJJLV4JbVwtc",
        "colab": {
          "base_uri": "https://localhost:8080/"
        },
        "outputId": "02b99d64-0a45-4681-8774-e08ff57b1583"
      },
      "source": [
        "data_december = pd.read_csv('/content/drive/MyDrive/yellow_tripdata_2019-12.csv')"
      ],
      "execution_count": null,
      "outputs": [
        {
          "output_type": "stream",
          "text": [
            "/usr/local/lib/python3.7/dist-packages/IPython/core/interactiveshell.py:2718: DtypeWarning: Columns (6) have mixed types.Specify dtype option on import or set low_memory=False.\n",
            "  interactivity=interactivity, compiler=compiler, result=result)\n"
          ],
          "name": "stderr"
        }
      ]
    },
    {
      "cell_type": "code",
      "metadata": {
        "colab": {
          "base_uri": "https://localhost:8080/"
        },
        "id": "m2-df7XQfUZn",
        "outputId": "ea99ba62-40b8-4013-9726-d140210a311f"
      },
      "source": [
        "data_janruary = pd.read_csv('/content/drive/MyDrive/yellow_tripdata_2020-01.csv')"
      ],
      "execution_count": null,
      "outputs": [
        {
          "output_type": "stream",
          "text": [
            "/usr/local/lib/python3.7/dist-packages/IPython/core/interactiveshell.py:2718: DtypeWarning: Columns (6) have mixed types.Specify dtype option on import or set low_memory=False.\n",
            "  interactivity=interactivity, compiler=compiler, result=result)\n"
          ],
          "name": "stderr"
        }
      ]
    },
    {
      "cell_type": "code",
      "metadata": {
        "id": "hhsnbzeBfd3v"
      },
      "source": [
        "data = data_december.append(data_janruary)"
      ],
      "execution_count": null,
      "outputs": []
    },
    {
      "cell_type": "markdown",
      "metadata": {
        "id": "7yCYo_nWg7G0"
      },
      "source": [
        "# EDA & preprocessing"
      ]
    },
    {
      "cell_type": "code",
      "metadata": {
        "id": "VLRBRpL-fmyV"
      },
      "source": [
        "assert data.shape[0] == data_december.shape[0] + data_janruary.shape[0]  and data.shape[1] == data_december.shape[1] == data_janruary.shape[1]"
      ],
      "execution_count": null,
      "outputs": []
    },
    {
      "cell_type": "code",
      "metadata": {
        "id": "bsMblhO1gHfm"
      },
      "source": [
        "del data_december\n",
        "del data_janruary"
      ],
      "execution_count": null,
      "outputs": []
    },
    {
      "cell_type": "code",
      "metadata": {
        "colab": {
          "base_uri": "https://localhost:8080/",
          "height": 224
        },
        "id": "bvrOJTEngNwt",
        "outputId": "9ba80eb3-c781-4dde-c76c-9c24c1c461f2"
      },
      "source": [
        "data.head()"
      ],
      "execution_count": null,
      "outputs": [
        {
          "output_type": "execute_result",
          "data": {
            "text/html": [
              "<div>\n",
              "<style scoped>\n",
              "    .dataframe tbody tr th:only-of-type {\n",
              "        vertical-align: middle;\n",
              "    }\n",
              "\n",
              "    .dataframe tbody tr th {\n",
              "        vertical-align: top;\n",
              "    }\n",
              "\n",
              "    .dataframe thead th {\n",
              "        text-align: right;\n",
              "    }\n",
              "</style>\n",
              "<table border=\"1\" class=\"dataframe\">\n",
              "  <thead>\n",
              "    <tr style=\"text-align: right;\">\n",
              "      <th></th>\n",
              "      <th>VendorID</th>\n",
              "      <th>tpep_pickup_datetime</th>\n",
              "      <th>tpep_dropoff_datetime</th>\n",
              "      <th>passenger_count</th>\n",
              "      <th>trip_distance</th>\n",
              "      <th>RatecodeID</th>\n",
              "      <th>store_and_fwd_flag</th>\n",
              "      <th>PULocationID</th>\n",
              "      <th>DOLocationID</th>\n",
              "      <th>payment_type</th>\n",
              "      <th>fare_amount</th>\n",
              "      <th>extra</th>\n",
              "      <th>mta_tax</th>\n",
              "      <th>tip_amount</th>\n",
              "      <th>tolls_amount</th>\n",
              "      <th>improvement_surcharge</th>\n",
              "      <th>total_amount</th>\n",
              "      <th>congestion_surcharge</th>\n",
              "    </tr>\n",
              "  </thead>\n",
              "  <tbody>\n",
              "    <tr>\n",
              "      <th>0</th>\n",
              "      <td>1.0</td>\n",
              "      <td>2019-12-01 00:26:58</td>\n",
              "      <td>2019-12-01 00:41:45</td>\n",
              "      <td>1.0</td>\n",
              "      <td>4.2</td>\n",
              "      <td>1.0</td>\n",
              "      <td>N</td>\n",
              "      <td>142</td>\n",
              "      <td>116</td>\n",
              "      <td>2.0</td>\n",
              "      <td>14.5</td>\n",
              "      <td>3.0</td>\n",
              "      <td>0.5</td>\n",
              "      <td>0.0</td>\n",
              "      <td>0.0</td>\n",
              "      <td>0.3</td>\n",
              "      <td>18.3</td>\n",
              "      <td>2.5</td>\n",
              "    </tr>\n",
              "    <tr>\n",
              "      <th>1</th>\n",
              "      <td>1.0</td>\n",
              "      <td>2019-12-01 00:12:08</td>\n",
              "      <td>2019-12-01 00:12:14</td>\n",
              "      <td>1.0</td>\n",
              "      <td>0.0</td>\n",
              "      <td>1.0</td>\n",
              "      <td>N</td>\n",
              "      <td>145</td>\n",
              "      <td>145</td>\n",
              "      <td>2.0</td>\n",
              "      <td>2.5</td>\n",
              "      <td>0.5</td>\n",
              "      <td>0.5</td>\n",
              "      <td>0.0</td>\n",
              "      <td>0.0</td>\n",
              "      <td>0.3</td>\n",
              "      <td>3.8</td>\n",
              "      <td>0.0</td>\n",
              "    </tr>\n",
              "    <tr>\n",
              "      <th>2</th>\n",
              "      <td>1.0</td>\n",
              "      <td>2019-12-01 00:25:53</td>\n",
              "      <td>2019-12-01 00:26:04</td>\n",
              "      <td>1.0</td>\n",
              "      <td>0.0</td>\n",
              "      <td>1.0</td>\n",
              "      <td>N</td>\n",
              "      <td>145</td>\n",
              "      <td>145</td>\n",
              "      <td>2.0</td>\n",
              "      <td>2.5</td>\n",
              "      <td>0.5</td>\n",
              "      <td>0.5</td>\n",
              "      <td>0.0</td>\n",
              "      <td>0.0</td>\n",
              "      <td>0.3</td>\n",
              "      <td>3.8</td>\n",
              "      <td>0.0</td>\n",
              "    </tr>\n",
              "    <tr>\n",
              "      <th>3</th>\n",
              "      <td>1.0</td>\n",
              "      <td>2019-12-01 00:12:03</td>\n",
              "      <td>2019-12-01 00:33:19</td>\n",
              "      <td>2.0</td>\n",
              "      <td>9.4</td>\n",
              "      <td>1.0</td>\n",
              "      <td>N</td>\n",
              "      <td>138</td>\n",
              "      <td>25</td>\n",
              "      <td>1.0</td>\n",
              "      <td>28.5</td>\n",
              "      <td>0.5</td>\n",
              "      <td>0.5</td>\n",
              "      <td>10.0</td>\n",
              "      <td>0.0</td>\n",
              "      <td>0.3</td>\n",
              "      <td>39.8</td>\n",
              "      <td>0.0</td>\n",
              "    </tr>\n",
              "    <tr>\n",
              "      <th>4</th>\n",
              "      <td>1.0</td>\n",
              "      <td>2019-12-01 00:05:27</td>\n",
              "      <td>2019-12-01 00:16:32</td>\n",
              "      <td>2.0</td>\n",
              "      <td>1.6</td>\n",
              "      <td>1.0</td>\n",
              "      <td>N</td>\n",
              "      <td>161</td>\n",
              "      <td>237</td>\n",
              "      <td>2.0</td>\n",
              "      <td>9.0</td>\n",
              "      <td>3.0</td>\n",
              "      <td>0.5</td>\n",
              "      <td>0.0</td>\n",
              "      <td>0.0</td>\n",
              "      <td>0.3</td>\n",
              "      <td>12.8</td>\n",
              "      <td>2.5</td>\n",
              "    </tr>\n",
              "  </tbody>\n",
              "</table>\n",
              "</div>"
            ],
            "text/plain": [
              "   VendorID tpep_pickup_datetime  ... total_amount  congestion_surcharge\n",
              "0       1.0  2019-12-01 00:26:58  ...         18.3                   2.5\n",
              "1       1.0  2019-12-01 00:12:08  ...          3.8                   0.0\n",
              "2       1.0  2019-12-01 00:25:53  ...          3.8                   0.0\n",
              "3       1.0  2019-12-01 00:12:03  ...         39.8                   0.0\n",
              "4       1.0  2019-12-01 00:05:27  ...         12.8                   2.5\n",
              "\n",
              "[5 rows x 18 columns]"
            ]
          },
          "metadata": {},
          "execution_count": 8
        }
      ]
    },
    {
      "cell_type": "code",
      "metadata": {
        "colab": {
          "base_uri": "https://localhost:8080/"
        },
        "id": "1ZG7Y6gRgQsV",
        "outputId": "564d0ef1-f48b-4efa-9056-34001b09d229"
      },
      "source": [
        "data.info()"
      ],
      "execution_count": null,
      "outputs": [
        {
          "output_type": "stream",
          "text": [
            "<class 'pandas.core.frame.DataFrame'>\n",
            "Int64Index: 13301325 entries, 0 to 6405007\n",
            "Data columns (total 18 columns):\n",
            " #   Column                 Dtype  \n",
            "---  ------                 -----  \n",
            " 0   VendorID               float64\n",
            " 1   tpep_pickup_datetime   object \n",
            " 2   tpep_dropoff_datetime  object \n",
            " 3   passenger_count        float64\n",
            " 4   trip_distance          float64\n",
            " 5   RatecodeID             float64\n",
            " 6   store_and_fwd_flag     object \n",
            " 7   PULocationID           int64  \n",
            " 8   DOLocationID           int64  \n",
            " 9   payment_type           float64\n",
            " 10  fare_amount            float64\n",
            " 11  extra                  float64\n",
            " 12  mta_tax                float64\n",
            " 13  tip_amount             float64\n",
            " 14  tolls_amount           float64\n",
            " 15  improvement_surcharge  float64\n",
            " 16  total_amount           float64\n",
            " 17  congestion_surcharge   float64\n",
            "dtypes: float64(13), int64(2), object(3)\n",
            "memory usage: 1.9+ GB\n"
          ],
          "name": "stdout"
        }
      ]
    },
    {
      "cell_type": "code",
      "metadata": {
        "colab": {
          "base_uri": "https://localhost:8080/",
          "height": 334
        },
        "id": "eA6GoXtQgR1F",
        "outputId": "57b026b2-6d46-4b90-be29-2afd80d3959f"
      },
      "source": [
        "data.describe()"
      ],
      "execution_count": null,
      "outputs": [
        {
          "output_type": "execute_result",
          "data": {
            "text/html": [
              "<div>\n",
              "<style scoped>\n",
              "    .dataframe tbody tr th:only-of-type {\n",
              "        vertical-align: middle;\n",
              "    }\n",
              "\n",
              "    .dataframe tbody tr th {\n",
              "        vertical-align: top;\n",
              "    }\n",
              "\n",
              "    .dataframe thead th {\n",
              "        text-align: right;\n",
              "    }\n",
              "</style>\n",
              "<table border=\"1\" class=\"dataframe\">\n",
              "  <thead>\n",
              "    <tr style=\"text-align: right;\">\n",
              "      <th></th>\n",
              "      <th>VendorID</th>\n",
              "      <th>passenger_count</th>\n",
              "      <th>trip_distance</th>\n",
              "      <th>RatecodeID</th>\n",
              "      <th>PULocationID</th>\n",
              "      <th>DOLocationID</th>\n",
              "      <th>payment_type</th>\n",
              "      <th>fare_amount</th>\n",
              "      <th>extra</th>\n",
              "      <th>mta_tax</th>\n",
              "      <th>tip_amount</th>\n",
              "      <th>tolls_amount</th>\n",
              "      <th>improvement_surcharge</th>\n",
              "      <th>total_amount</th>\n",
              "      <th>congestion_surcharge</th>\n",
              "    </tr>\n",
              "  </thead>\n",
              "  <tbody>\n",
              "    <tr>\n",
              "      <th>count</th>\n",
              "      <td>1.318487e+07</td>\n",
              "      <td>1.318487e+07</td>\n",
              "      <td>1.330132e+07</td>\n",
              "      <td>1.318487e+07</td>\n",
              "      <td>1.330132e+07</td>\n",
              "      <td>1.330132e+07</td>\n",
              "      <td>1.318487e+07</td>\n",
              "      <td>1.330132e+07</td>\n",
              "      <td>1.330132e+07</td>\n",
              "      <td>1.330132e+07</td>\n",
              "      <td>1.330132e+07</td>\n",
              "      <td>1.330132e+07</td>\n",
              "      <td>1.330132e+07</td>\n",
              "      <td>1.330132e+07</td>\n",
              "      <td>1.330132e+07</td>\n",
              "    </tr>\n",
              "    <tr>\n",
              "      <th>mean</th>\n",
              "      <td>1.667980e+00</td>\n",
              "      <td>1.533787e+00</td>\n",
              "      <td>2.952341e+00</td>\n",
              "      <td>1.062944e+00</td>\n",
              "      <td>1.641724e+02</td>\n",
              "      <td>1.620543e+02</td>\n",
              "      <td>1.285196e+00</td>\n",
              "      <td>1.315874e+01</td>\n",
              "      <td>1.111859e+00</td>\n",
              "      <td>4.923682e-01</td>\n",
              "      <td>2.218002e+00</td>\n",
              "      <td>3.692072e-01</td>\n",
              "      <td>2.979863e-01</td>\n",
              "      <td>1.917047e+01</td>\n",
              "      <td>2.275463e+00</td>\n",
              "    </tr>\n",
              "    <tr>\n",
              "      <th>std</th>\n",
              "      <td>4.709382e-01</td>\n",
              "      <td>1.163589e+00</td>\n",
              "      <td>5.890652e+01</td>\n",
              "      <td>8.757305e-01</td>\n",
              "      <td>6.581286e+01</td>\n",
              "      <td>7.013568e+01</td>\n",
              "      <td>4.815006e-01</td>\n",
              "      <td>1.099645e+02</td>\n",
              "      <td>1.259975e+00</td>\n",
              "      <td>7.301767e-02</td>\n",
              "      <td>2.820425e+00</td>\n",
              "      <td>1.740590e+00</td>\n",
              "      <td>3.383608e-02</td>\n",
              "      <td>1.103017e+02</td>\n",
              "      <td>7.356288e-01</td>\n",
              "    </tr>\n",
              "    <tr>\n",
              "      <th>min</th>\n",
              "      <td>1.000000e+00</td>\n",
              "      <td>0.000000e+00</td>\n",
              "      <td>-3.726453e+04</td>\n",
              "      <td>1.000000e+00</td>\n",
              "      <td>1.000000e+00</td>\n",
              "      <td>1.000000e+00</td>\n",
              "      <td>1.000000e+00</td>\n",
              "      <td>-1.472000e+03</td>\n",
              "      <td>-2.700000e+01</td>\n",
              "      <td>-5.000000e-01</td>\n",
              "      <td>-2.008000e+02</td>\n",
              "      <td>-4.050000e+01</td>\n",
              "      <td>-3.000000e-01</td>\n",
              "      <td>-1.472800e+03</td>\n",
              "      <td>-2.500000e+00</td>\n",
              "    </tr>\n",
              "    <tr>\n",
              "      <th>25%</th>\n",
              "      <td>1.000000e+00</td>\n",
              "      <td>1.000000e+00</td>\n",
              "      <td>9.600000e-01</td>\n",
              "      <td>1.000000e+00</td>\n",
              "      <td>1.250000e+02</td>\n",
              "      <td>1.130000e+02</td>\n",
              "      <td>1.000000e+00</td>\n",
              "      <td>6.500000e+00</td>\n",
              "      <td>0.000000e+00</td>\n",
              "      <td>5.000000e-01</td>\n",
              "      <td>0.000000e+00</td>\n",
              "      <td>0.000000e+00</td>\n",
              "      <td>3.000000e-01</td>\n",
              "      <td>1.130000e+01</td>\n",
              "      <td>2.500000e+00</td>\n",
              "    </tr>\n",
              "    <tr>\n",
              "      <th>50%</th>\n",
              "      <td>2.000000e+00</td>\n",
              "      <td>1.000000e+00</td>\n",
              "      <td>1.600000e+00</td>\n",
              "      <td>1.000000e+00</td>\n",
              "      <td>1.620000e+02</td>\n",
              "      <td>1.620000e+02</td>\n",
              "      <td>1.000000e+00</td>\n",
              "      <td>9.500000e+00</td>\n",
              "      <td>5.000000e-01</td>\n",
              "      <td>5.000000e-01</td>\n",
              "      <td>1.950000e+00</td>\n",
              "      <td>0.000000e+00</td>\n",
              "      <td>3.000000e-01</td>\n",
              "      <td>1.475000e+01</td>\n",
              "      <td>2.500000e+00</td>\n",
              "    </tr>\n",
              "    <tr>\n",
              "      <th>75%</th>\n",
              "      <td>2.000000e+00</td>\n",
              "      <td>2.000000e+00</td>\n",
              "      <td>3.000000e+00</td>\n",
              "      <td>1.000000e+00</td>\n",
              "      <td>2.340000e+02</td>\n",
              "      <td>2.340000e+02</td>\n",
              "      <td>2.000000e+00</td>\n",
              "      <td>1.450000e+01</td>\n",
              "      <td>2.500000e+00</td>\n",
              "      <td>5.000000e-01</td>\n",
              "      <td>2.950000e+00</td>\n",
              "      <td>0.000000e+00</td>\n",
              "      <td>3.000000e-01</td>\n",
              "      <td>2.075000e+01</td>\n",
              "      <td>2.500000e+00</td>\n",
              "    </tr>\n",
              "    <tr>\n",
              "      <th>max</th>\n",
              "      <td>2.000000e+00</td>\n",
              "      <td>9.000000e+00</td>\n",
              "      <td>2.102401e+05</td>\n",
              "      <td>9.900000e+01</td>\n",
              "      <td>2.650000e+02</td>\n",
              "      <td>2.650000e+02</td>\n",
              "      <td>5.000000e+00</td>\n",
              "      <td>3.984684e+05</td>\n",
              "      <td>1.130100e+02</td>\n",
              "      <td>3.080000e+01</td>\n",
              "      <td>1.100000e+03</td>\n",
              "      <td>9.105000e+02</td>\n",
              "      <td>3.000000e-01</td>\n",
              "      <td>3.984712e+05</td>\n",
              "      <td>3.000000e+00</td>\n",
              "    </tr>\n",
              "  </tbody>\n",
              "</table>\n",
              "</div>"
            ],
            "text/plain": [
              "           VendorID  passenger_count  ...  total_amount  congestion_surcharge\n",
              "count  1.318487e+07     1.318487e+07  ...  1.330132e+07          1.330132e+07\n",
              "mean   1.667980e+00     1.533787e+00  ...  1.917047e+01          2.275463e+00\n",
              "std    4.709382e-01     1.163589e+00  ...  1.103017e+02          7.356288e-01\n",
              "min    1.000000e+00     0.000000e+00  ... -1.472800e+03         -2.500000e+00\n",
              "25%    1.000000e+00     1.000000e+00  ...  1.130000e+01          2.500000e+00\n",
              "50%    2.000000e+00     1.000000e+00  ...  1.475000e+01          2.500000e+00\n",
              "75%    2.000000e+00     2.000000e+00  ...  2.075000e+01          2.500000e+00\n",
              "max    2.000000e+00     9.000000e+00  ...  3.984712e+05          3.000000e+00\n",
              "\n",
              "[8 rows x 15 columns]"
            ]
          },
          "metadata": {},
          "execution_count": 10
        }
      ]
    },
    {
      "cell_type": "code",
      "metadata": {
        "id": "HVTBjLLqgTDl"
      },
      "source": [
        "DATETIME_COLUMNS = ['tpep_pickup_datetime', 'tpep_dropoff_datetime']"
      ],
      "execution_count": null,
      "outputs": []
    },
    {
      "cell_type": "code",
      "metadata": {
        "id": "YptTwHcd4bJ7"
      },
      "source": [
        "timezone_name = 'America/New_York'"
      ],
      "execution_count": null,
      "outputs": []
    },
    {
      "cell_type": "code",
      "metadata": {
        "id": "Fw7a_HOcgl1e"
      },
      "source": [
        "for col in DATETIME_COLUMNS:\n",
        "  data[col] = pd.to_datetime(data[col])"
      ],
      "execution_count": null,
      "outputs": []
    },
    {
      "cell_type": "code",
      "metadata": {
        "colab": {
          "base_uri": "https://localhost:8080/"
        },
        "id": "5MSfSOzxgvaN",
        "outputId": "5e43696e-e41f-42c1-8088-9b39f27b4890"
      },
      "source": [
        "# Пропущенные значения\n",
        "data.isna().sum()"
      ],
      "execution_count": null,
      "outputs": [
        {
          "output_type": "execute_result",
          "data": {
            "text/plain": [
              "VendorID                 116459\n",
              "tpep_pickup_datetime          0\n",
              "tpep_dropoff_datetime         0\n",
              "passenger_count          116459\n",
              "trip_distance                 0\n",
              "RatecodeID               116459\n",
              "store_and_fwd_flag       116459\n",
              "PULocationID                  0\n",
              "DOLocationID                  0\n",
              "payment_type             116459\n",
              "fare_amount                   0\n",
              "extra                         0\n",
              "mta_tax                       0\n",
              "tip_amount                    0\n",
              "tolls_amount                  0\n",
              "improvement_surcharge         0\n",
              "total_amount                  0\n",
              "congestion_surcharge          0\n",
              "dtype: int64"
            ]
          },
          "metadata": {},
          "execution_count": 14
        }
      ]
    },
    {
      "cell_type": "code",
      "metadata": {
        "colab": {
          "base_uri": "https://localhost:8080/"
        },
        "id": "gl5k2Yu8hDqV",
        "outputId": "d69da3cf-3ee7-44ac-f4fb-d869ddbf3274"
      },
      "source": [
        "print(data.isna().sum()['VendorID'] / data.shape[0])"
      ],
      "execution_count": null,
      "outputs": [
        {
          "output_type": "stream",
          "text": [
            "0.008755443536640147\n"
          ],
          "name": "stdout"
        }
      ]
    },
    {
      "cell_type": "code",
      "metadata": {
        "colab": {
          "base_uri": "https://localhost:8080/",
          "height": 439
        },
        "id": "5X8JhSTdhPqW",
        "outputId": "80b7225f-b3c0-4f76-8a97-48b3069ee370"
      },
      "source": [
        "data[data['VendorID'].isna()]"
      ],
      "execution_count": null,
      "outputs": [
        {
          "output_type": "execute_result",
          "data": {
            "text/html": [
              "<div>\n",
              "<style scoped>\n",
              "    .dataframe tbody tr th:only-of-type {\n",
              "        vertical-align: middle;\n",
              "    }\n",
              "\n",
              "    .dataframe tbody tr th {\n",
              "        vertical-align: top;\n",
              "    }\n",
              "\n",
              "    .dataframe thead th {\n",
              "        text-align: right;\n",
              "    }\n",
              "</style>\n",
              "<table border=\"1\" class=\"dataframe\">\n",
              "  <thead>\n",
              "    <tr style=\"text-align: right;\">\n",
              "      <th></th>\n",
              "      <th>VendorID</th>\n",
              "      <th>tpep_pickup_datetime</th>\n",
              "      <th>tpep_dropoff_datetime</th>\n",
              "      <th>passenger_count</th>\n",
              "      <th>trip_distance</th>\n",
              "      <th>RatecodeID</th>\n",
              "      <th>store_and_fwd_flag</th>\n",
              "      <th>PULocationID</th>\n",
              "      <th>DOLocationID</th>\n",
              "      <th>payment_type</th>\n",
              "      <th>fare_amount</th>\n",
              "      <th>extra</th>\n",
              "      <th>mta_tax</th>\n",
              "      <th>tip_amount</th>\n",
              "      <th>tolls_amount</th>\n",
              "      <th>improvement_surcharge</th>\n",
              "      <th>total_amount</th>\n",
              "      <th>congestion_surcharge</th>\n",
              "    </tr>\n",
              "  </thead>\n",
              "  <tbody>\n",
              "    <tr>\n",
              "      <th>6845299</th>\n",
              "      <td>NaN</td>\n",
              "      <td>2019-12-01 11:29:00</td>\n",
              "      <td>2019-12-01 12:17:00</td>\n",
              "      <td>NaN</td>\n",
              "      <td>18.21</td>\n",
              "      <td>NaN</td>\n",
              "      <td>NaN</td>\n",
              "      <td>107</td>\n",
              "      <td>76</td>\n",
              "      <td>NaN</td>\n",
              "      <td>29.53</td>\n",
              "      <td>2.75</td>\n",
              "      <td>0.5</td>\n",
              "      <td>0.0</td>\n",
              "      <td>6.12</td>\n",
              "      <td>0.3</td>\n",
              "      <td>39.20</td>\n",
              "      <td>0.0</td>\n",
              "    </tr>\n",
              "    <tr>\n",
              "      <th>6845300</th>\n",
              "      <td>NaN</td>\n",
              "      <td>2019-12-01 11:40:42</td>\n",
              "      <td>2019-12-01 12:00:04</td>\n",
              "      <td>NaN</td>\n",
              "      <td>7.92</td>\n",
              "      <td>NaN</td>\n",
              "      <td>NaN</td>\n",
              "      <td>263</td>\n",
              "      <td>182</td>\n",
              "      <td>NaN</td>\n",
              "      <td>30.33</td>\n",
              "      <td>2.75</td>\n",
              "      <td>0.0</td>\n",
              "      <td>0.0</td>\n",
              "      <td>6.12</td>\n",
              "      <td>0.3</td>\n",
              "      <td>39.50</td>\n",
              "      <td>0.0</td>\n",
              "    </tr>\n",
              "    <tr>\n",
              "      <th>6845301</th>\n",
              "      <td>NaN</td>\n",
              "      <td>2019-12-01 11:00:00</td>\n",
              "      <td>2019-12-01 11:37:00</td>\n",
              "      <td>NaN</td>\n",
              "      <td>9.38</td>\n",
              "      <td>NaN</td>\n",
              "      <td>NaN</td>\n",
              "      <td>22</td>\n",
              "      <td>211</td>\n",
              "      <td>NaN</td>\n",
              "      <td>33.56</td>\n",
              "      <td>2.75</td>\n",
              "      <td>0.5</td>\n",
              "      <td>0.0</td>\n",
              "      <td>0.00</td>\n",
              "      <td>0.3</td>\n",
              "      <td>37.11</td>\n",
              "      <td>0.0</td>\n",
              "    </tr>\n",
              "    <tr>\n",
              "      <th>6845302</th>\n",
              "      <td>NaN</td>\n",
              "      <td>2019-12-01 11:43:00</td>\n",
              "      <td>2019-12-01 12:16:00</td>\n",
              "      <td>NaN</td>\n",
              "      <td>11.39</td>\n",
              "      <td>NaN</td>\n",
              "      <td>NaN</td>\n",
              "      <td>121</td>\n",
              "      <td>90</td>\n",
              "      <td>NaN</td>\n",
              "      <td>42.23</td>\n",
              "      <td>2.75</td>\n",
              "      <td>0.5</td>\n",
              "      <td>0.0</td>\n",
              "      <td>6.12</td>\n",
              "      <td>0.3</td>\n",
              "      <td>51.90</td>\n",
              "      <td>0.0</td>\n",
              "    </tr>\n",
              "    <tr>\n",
              "      <th>6845303</th>\n",
              "      <td>NaN</td>\n",
              "      <td>2019-12-01 11:01:35</td>\n",
              "      <td>2019-12-01 11:17:58</td>\n",
              "      <td>NaN</td>\n",
              "      <td>3.01</td>\n",
              "      <td>NaN</td>\n",
              "      <td>NaN</td>\n",
              "      <td>75</td>\n",
              "      <td>163</td>\n",
              "      <td>NaN</td>\n",
              "      <td>21.18</td>\n",
              "      <td>2.75</td>\n",
              "      <td>0.0</td>\n",
              "      <td>0.0</td>\n",
              "      <td>0.00</td>\n",
              "      <td>0.3</td>\n",
              "      <td>24.23</td>\n",
              "      <td>0.0</td>\n",
              "    </tr>\n",
              "    <tr>\n",
              "      <th>...</th>\n",
              "      <td>...</td>\n",
              "      <td>...</td>\n",
              "      <td>...</td>\n",
              "      <td>...</td>\n",
              "      <td>...</td>\n",
              "      <td>...</td>\n",
              "      <td>...</td>\n",
              "      <td>...</td>\n",
              "      <td>...</td>\n",
              "      <td>...</td>\n",
              "      <td>...</td>\n",
              "      <td>...</td>\n",
              "      <td>...</td>\n",
              "      <td>...</td>\n",
              "      <td>...</td>\n",
              "      <td>...</td>\n",
              "      <td>...</td>\n",
              "      <td>...</td>\n",
              "    </tr>\n",
              "    <tr>\n",
              "      <th>6405003</th>\n",
              "      <td>NaN</td>\n",
              "      <td>2020-01-31 22:51:00</td>\n",
              "      <td>2020-01-31 23:22:00</td>\n",
              "      <td>NaN</td>\n",
              "      <td>3.24</td>\n",
              "      <td>NaN</td>\n",
              "      <td>NaN</td>\n",
              "      <td>237</td>\n",
              "      <td>234</td>\n",
              "      <td>NaN</td>\n",
              "      <td>17.59</td>\n",
              "      <td>2.75</td>\n",
              "      <td>0.5</td>\n",
              "      <td>0.0</td>\n",
              "      <td>0.00</td>\n",
              "      <td>0.3</td>\n",
              "      <td>21.14</td>\n",
              "      <td>0.0</td>\n",
              "    </tr>\n",
              "    <tr>\n",
              "      <th>6405004</th>\n",
              "      <td>NaN</td>\n",
              "      <td>2020-01-31 22:10:00</td>\n",
              "      <td>2020-01-31 23:26:00</td>\n",
              "      <td>NaN</td>\n",
              "      <td>22.13</td>\n",
              "      <td>NaN</td>\n",
              "      <td>NaN</td>\n",
              "      <td>259</td>\n",
              "      <td>45</td>\n",
              "      <td>NaN</td>\n",
              "      <td>46.67</td>\n",
              "      <td>2.75</td>\n",
              "      <td>0.5</td>\n",
              "      <td>0.0</td>\n",
              "      <td>12.24</td>\n",
              "      <td>0.3</td>\n",
              "      <td>62.46</td>\n",
              "      <td>0.0</td>\n",
              "    </tr>\n",
              "    <tr>\n",
              "      <th>6405005</th>\n",
              "      <td>NaN</td>\n",
              "      <td>2020-01-31 22:50:07</td>\n",
              "      <td>2020-01-31 23:17:57</td>\n",
              "      <td>NaN</td>\n",
              "      <td>10.51</td>\n",
              "      <td>NaN</td>\n",
              "      <td>NaN</td>\n",
              "      <td>137</td>\n",
              "      <td>169</td>\n",
              "      <td>NaN</td>\n",
              "      <td>48.85</td>\n",
              "      <td>2.75</td>\n",
              "      <td>0.0</td>\n",
              "      <td>0.0</td>\n",
              "      <td>0.00</td>\n",
              "      <td>0.3</td>\n",
              "      <td>51.90</td>\n",
              "      <td>0.0</td>\n",
              "    </tr>\n",
              "    <tr>\n",
              "      <th>6405006</th>\n",
              "      <td>NaN</td>\n",
              "      <td>2020-01-31 22:25:53</td>\n",
              "      <td>2020-01-31 22:48:32</td>\n",
              "      <td>NaN</td>\n",
              "      <td>5.49</td>\n",
              "      <td>NaN</td>\n",
              "      <td>NaN</td>\n",
              "      <td>50</td>\n",
              "      <td>42</td>\n",
              "      <td>NaN</td>\n",
              "      <td>27.17</td>\n",
              "      <td>2.75</td>\n",
              "      <td>0.0</td>\n",
              "      <td>0.0</td>\n",
              "      <td>0.00</td>\n",
              "      <td>0.3</td>\n",
              "      <td>30.22</td>\n",
              "      <td>0.0</td>\n",
              "    </tr>\n",
              "    <tr>\n",
              "      <th>6405007</th>\n",
              "      <td>NaN</td>\n",
              "      <td>2020-01-31 22:44:00</td>\n",
              "      <td>2020-01-31 23:06:00</td>\n",
              "      <td>NaN</td>\n",
              "      <td>11.60</td>\n",
              "      <td>NaN</td>\n",
              "      <td>NaN</td>\n",
              "      <td>179</td>\n",
              "      <td>205</td>\n",
              "      <td>NaN</td>\n",
              "      <td>54.56</td>\n",
              "      <td>2.75</td>\n",
              "      <td>0.5</td>\n",
              "      <td>0.0</td>\n",
              "      <td>0.00</td>\n",
              "      <td>0.3</td>\n",
              "      <td>58.11</td>\n",
              "      <td>0.0</td>\n",
              "    </tr>\n",
              "  </tbody>\n",
              "</table>\n",
              "<p>116459 rows × 18 columns</p>\n",
              "</div>"
            ],
            "text/plain": [
              "         VendorID tpep_pickup_datetime  ... total_amount  congestion_surcharge\n",
              "6845299       NaN  2019-12-01 11:29:00  ...        39.20                   0.0\n",
              "6845300       NaN  2019-12-01 11:40:42  ...        39.50                   0.0\n",
              "6845301       NaN  2019-12-01 11:00:00  ...        37.11                   0.0\n",
              "6845302       NaN  2019-12-01 11:43:00  ...        51.90                   0.0\n",
              "6845303       NaN  2019-12-01 11:01:35  ...        24.23                   0.0\n",
              "...           ...                  ...  ...          ...                   ...\n",
              "6405003       NaN  2020-01-31 22:51:00  ...        21.14                   0.0\n",
              "6405004       NaN  2020-01-31 22:10:00  ...        62.46                   0.0\n",
              "6405005       NaN  2020-01-31 22:50:07  ...        51.90                   0.0\n",
              "6405006       NaN  2020-01-31 22:25:53  ...        30.22                   0.0\n",
              "6405007       NaN  2020-01-31 22:44:00  ...        58.11                   0.0\n",
              "\n",
              "[116459 rows x 18 columns]"
            ]
          },
          "metadata": {},
          "execution_count": 16
        }
      ]
    },
    {
      "cell_type": "markdown",
      "metadata": {
        "id": "sx0n6sQdiVNc"
      },
      "source": [
        "Для понимания о величинах использовались описание [датасета](https://www1.nyc.gov/assets/tlc/downloads/pdf/data_dictionary_trip_records_yellow.pdf)"
      ]
    },
    {
      "cell_type": "markdown",
      "metadata": {
        "id": "QV9BzrsAh4Ue"
      },
      "source": [
        "В данном случае можно применить две стратегии. Первая заключается в том, чтобы каким-то образом заполнить данными. Допустим, что мы действительно сможем заполнить каким-то образом. Тем ни менее, определенно не факт, что не испортим данные, если будем случайным образом (медианой или средним значением). Более того, пропуски содержат приблизительно 0.9% данных, поэтому применим вторую стратегию - отбросим такую информацию."
      ]
    },
    {
      "cell_type": "code",
      "metadata": {
        "id": "FI7sWpsthUoV"
      },
      "source": [
        "data = data.dropna()"
      ],
      "execution_count": null,
      "outputs": []
    },
    {
      "cell_type": "code",
      "metadata": {
        "colab": {
          "base_uri": "https://localhost:8080/"
        },
        "id": "88cGaGN_j7YC",
        "outputId": "93b065cc-2e8f-471a-c536-d4b0c3e7f3ae"
      },
      "source": [
        "data.shape"
      ],
      "execution_count": null,
      "outputs": [
        {
          "output_type": "execute_result",
          "data": {
            "text/plain": [
              "(13184866, 18)"
            ]
          },
          "metadata": {},
          "execution_count": 18
        }
      ]
    },
    {
      "cell_type": "code",
      "metadata": {
        "colab": {
          "base_uri": "https://localhost:8080/"
        },
        "id": "HBC-GLUvjw9t",
        "outputId": "e87c5874-94fa-47fd-d131-d09732e5ffd6"
      },
      "source": [
        "# check if there are no missing values after removing it\n",
        "data.isna().sum()"
      ],
      "execution_count": null,
      "outputs": [
        {
          "output_type": "execute_result",
          "data": {
            "text/plain": [
              "VendorID                 0\n",
              "tpep_pickup_datetime     0\n",
              "tpep_dropoff_datetime    0\n",
              "passenger_count          0\n",
              "trip_distance            0\n",
              "RatecodeID               0\n",
              "store_and_fwd_flag       0\n",
              "PULocationID             0\n",
              "DOLocationID             0\n",
              "payment_type             0\n",
              "fare_amount              0\n",
              "extra                    0\n",
              "mta_tax                  0\n",
              "tip_amount               0\n",
              "tolls_amount             0\n",
              "improvement_surcharge    0\n",
              "total_amount             0\n",
              "congestion_surcharge     0\n",
              "dtype: int64"
            ]
          },
          "metadata": {},
          "execution_count": 19
        }
      ]
    },
    {
      "cell_type": "code",
      "metadata": {
        "colab": {
          "base_uri": "https://localhost:8080/",
          "height": 224
        },
        "id": "qcyNV6czj3-7",
        "outputId": "4dacde56-e100-43b1-c440-fecfc33dd7ae"
      },
      "source": [
        "data.head()"
      ],
      "execution_count": null,
      "outputs": [
        {
          "output_type": "execute_result",
          "data": {
            "text/html": [
              "<div>\n",
              "<style scoped>\n",
              "    .dataframe tbody tr th:only-of-type {\n",
              "        vertical-align: middle;\n",
              "    }\n",
              "\n",
              "    .dataframe tbody tr th {\n",
              "        vertical-align: top;\n",
              "    }\n",
              "\n",
              "    .dataframe thead th {\n",
              "        text-align: right;\n",
              "    }\n",
              "</style>\n",
              "<table border=\"1\" class=\"dataframe\">\n",
              "  <thead>\n",
              "    <tr style=\"text-align: right;\">\n",
              "      <th></th>\n",
              "      <th>VendorID</th>\n",
              "      <th>tpep_pickup_datetime</th>\n",
              "      <th>tpep_dropoff_datetime</th>\n",
              "      <th>passenger_count</th>\n",
              "      <th>trip_distance</th>\n",
              "      <th>RatecodeID</th>\n",
              "      <th>store_and_fwd_flag</th>\n",
              "      <th>PULocationID</th>\n",
              "      <th>DOLocationID</th>\n",
              "      <th>payment_type</th>\n",
              "      <th>fare_amount</th>\n",
              "      <th>extra</th>\n",
              "      <th>mta_tax</th>\n",
              "      <th>tip_amount</th>\n",
              "      <th>tolls_amount</th>\n",
              "      <th>improvement_surcharge</th>\n",
              "      <th>total_amount</th>\n",
              "      <th>congestion_surcharge</th>\n",
              "    </tr>\n",
              "  </thead>\n",
              "  <tbody>\n",
              "    <tr>\n",
              "      <th>0</th>\n",
              "      <td>1.0</td>\n",
              "      <td>2019-12-01 00:26:58</td>\n",
              "      <td>2019-12-01 00:41:45</td>\n",
              "      <td>1.0</td>\n",
              "      <td>4.2</td>\n",
              "      <td>1.0</td>\n",
              "      <td>N</td>\n",
              "      <td>142</td>\n",
              "      <td>116</td>\n",
              "      <td>2.0</td>\n",
              "      <td>14.5</td>\n",
              "      <td>3.0</td>\n",
              "      <td>0.5</td>\n",
              "      <td>0.0</td>\n",
              "      <td>0.0</td>\n",
              "      <td>0.3</td>\n",
              "      <td>18.3</td>\n",
              "      <td>2.5</td>\n",
              "    </tr>\n",
              "    <tr>\n",
              "      <th>1</th>\n",
              "      <td>1.0</td>\n",
              "      <td>2019-12-01 00:12:08</td>\n",
              "      <td>2019-12-01 00:12:14</td>\n",
              "      <td>1.0</td>\n",
              "      <td>0.0</td>\n",
              "      <td>1.0</td>\n",
              "      <td>N</td>\n",
              "      <td>145</td>\n",
              "      <td>145</td>\n",
              "      <td>2.0</td>\n",
              "      <td>2.5</td>\n",
              "      <td>0.5</td>\n",
              "      <td>0.5</td>\n",
              "      <td>0.0</td>\n",
              "      <td>0.0</td>\n",
              "      <td>0.3</td>\n",
              "      <td>3.8</td>\n",
              "      <td>0.0</td>\n",
              "    </tr>\n",
              "    <tr>\n",
              "      <th>2</th>\n",
              "      <td>1.0</td>\n",
              "      <td>2019-12-01 00:25:53</td>\n",
              "      <td>2019-12-01 00:26:04</td>\n",
              "      <td>1.0</td>\n",
              "      <td>0.0</td>\n",
              "      <td>1.0</td>\n",
              "      <td>N</td>\n",
              "      <td>145</td>\n",
              "      <td>145</td>\n",
              "      <td>2.0</td>\n",
              "      <td>2.5</td>\n",
              "      <td>0.5</td>\n",
              "      <td>0.5</td>\n",
              "      <td>0.0</td>\n",
              "      <td>0.0</td>\n",
              "      <td>0.3</td>\n",
              "      <td>3.8</td>\n",
              "      <td>0.0</td>\n",
              "    </tr>\n",
              "    <tr>\n",
              "      <th>3</th>\n",
              "      <td>1.0</td>\n",
              "      <td>2019-12-01 00:12:03</td>\n",
              "      <td>2019-12-01 00:33:19</td>\n",
              "      <td>2.0</td>\n",
              "      <td>9.4</td>\n",
              "      <td>1.0</td>\n",
              "      <td>N</td>\n",
              "      <td>138</td>\n",
              "      <td>25</td>\n",
              "      <td>1.0</td>\n",
              "      <td>28.5</td>\n",
              "      <td>0.5</td>\n",
              "      <td>0.5</td>\n",
              "      <td>10.0</td>\n",
              "      <td>0.0</td>\n",
              "      <td>0.3</td>\n",
              "      <td>39.8</td>\n",
              "      <td>0.0</td>\n",
              "    </tr>\n",
              "    <tr>\n",
              "      <th>4</th>\n",
              "      <td>1.0</td>\n",
              "      <td>2019-12-01 00:05:27</td>\n",
              "      <td>2019-12-01 00:16:32</td>\n",
              "      <td>2.0</td>\n",
              "      <td>1.6</td>\n",
              "      <td>1.0</td>\n",
              "      <td>N</td>\n",
              "      <td>161</td>\n",
              "      <td>237</td>\n",
              "      <td>2.0</td>\n",
              "      <td>9.0</td>\n",
              "      <td>3.0</td>\n",
              "      <td>0.5</td>\n",
              "      <td>0.0</td>\n",
              "      <td>0.0</td>\n",
              "      <td>0.3</td>\n",
              "      <td>12.8</td>\n",
              "      <td>2.5</td>\n",
              "    </tr>\n",
              "  </tbody>\n",
              "</table>\n",
              "</div>"
            ],
            "text/plain": [
              "   VendorID tpep_pickup_datetime  ... total_amount  congestion_surcharge\n",
              "0       1.0  2019-12-01 00:26:58  ...         18.3                   2.5\n",
              "1       1.0  2019-12-01 00:12:08  ...          3.8                   0.0\n",
              "2       1.0  2019-12-01 00:25:53  ...          3.8                   0.0\n",
              "3       1.0  2019-12-01 00:12:03  ...         39.8                   0.0\n",
              "4       1.0  2019-12-01 00:05:27  ...         12.8                   2.5\n",
              "\n",
              "[5 rows x 18 columns]"
            ]
          },
          "metadata": {},
          "execution_count": 20
        }
      ]
    },
    {
      "cell_type": "markdown",
      "metadata": {
        "id": "Dlm7VdhdkRMo"
      },
      "source": [
        "Посмотрим детальнее на распределение данных по признакам. Обработаем заведомо неверные значения (ошибочные) путем исключения их из датасета. Также приведем признаки, которые должны содержать целочисленные значения, к соответствующему типу"
      ]
    },
    {
      "cell_type": "code",
      "metadata": {
        "id": "KY2mnitvkEpE"
      },
      "source": [
        "# int columns\n",
        "INT_COLUMNS = ['VendorID', 'passenger_count', 'RatecodeID', 'PULocationID', 'DOLocationID', 'payment_type']"
      ],
      "execution_count": null,
      "outputs": []
    },
    {
      "cell_type": "code",
      "metadata": {
        "id": "AGLlbqmck5nD"
      },
      "source": [
        "data[INT_COLUMNS] = data[INT_COLUMNS].astype(np.int64)"
      ],
      "execution_count": null,
      "outputs": []
    },
    {
      "cell_type": "code",
      "metadata": {
        "colab": {
          "base_uri": "https://localhost:8080/"
        },
        "id": "WrsQjan8lUXL",
        "outputId": "3174767e-b7f0-468b-b15c-e2ed860eb508"
      },
      "source": [
        "data.dtypes"
      ],
      "execution_count": null,
      "outputs": [
        {
          "output_type": "execute_result",
          "data": {
            "text/plain": [
              "VendorID                          int64\n",
              "tpep_pickup_datetime     datetime64[ns]\n",
              "tpep_dropoff_datetime    datetime64[ns]\n",
              "passenger_count                   int64\n",
              "trip_distance                   float64\n",
              "RatecodeID                        int64\n",
              "store_and_fwd_flag               object\n",
              "PULocationID                      int64\n",
              "DOLocationID                      int64\n",
              "payment_type                      int64\n",
              "fare_amount                     float64\n",
              "extra                           float64\n",
              "mta_tax                         float64\n",
              "tip_amount                      float64\n",
              "tolls_amount                    float64\n",
              "improvement_surcharge           float64\n",
              "total_amount                    float64\n",
              "congestion_surcharge            float64\n",
              "dtype: object"
            ]
          },
          "metadata": {},
          "execution_count": 23
        }
      ]
    },
    {
      "cell_type": "code",
      "metadata": {
        "id": "LETl_sqKo_LB"
      },
      "source": [
        "# Save csv (pickle??) to gdrive in order not to rerun preprocessing everytime\n",
        "# data.to_csv('/content/drive/MyDrive/taxi.csv', index=False)\n",
        "\n",
        "\n",
        "# data = pd.read_csv('/content/drive/MyDrive/taxi.csv', parse_dates = ['tpep_pickup_datetime', 'tpep_dropoff_datetime'])"
      ],
      "execution_count": null,
      "outputs": []
    },
    {
      "cell_type": "code",
      "metadata": {
        "colab": {
          "base_uri": "https://localhost:8080/",
          "height": 334
        },
        "id": "DTT4LIjTmwHM",
        "outputId": "33a82586-2510-4caa-abe9-e7c3f46ae0f7"
      },
      "source": [
        "data.describe()"
      ],
      "execution_count": null,
      "outputs": [
        {
          "output_type": "execute_result",
          "data": {
            "text/html": [
              "<div>\n",
              "<style scoped>\n",
              "    .dataframe tbody tr th:only-of-type {\n",
              "        vertical-align: middle;\n",
              "    }\n",
              "\n",
              "    .dataframe tbody tr th {\n",
              "        vertical-align: top;\n",
              "    }\n",
              "\n",
              "    .dataframe thead th {\n",
              "        text-align: right;\n",
              "    }\n",
              "</style>\n",
              "<table border=\"1\" class=\"dataframe\">\n",
              "  <thead>\n",
              "    <tr style=\"text-align: right;\">\n",
              "      <th></th>\n",
              "      <th>VendorID</th>\n",
              "      <th>passenger_count</th>\n",
              "      <th>trip_distance</th>\n",
              "      <th>RatecodeID</th>\n",
              "      <th>PULocationID</th>\n",
              "      <th>DOLocationID</th>\n",
              "      <th>payment_type</th>\n",
              "      <th>fare_amount</th>\n",
              "      <th>extra</th>\n",
              "      <th>mta_tax</th>\n",
              "      <th>tip_amount</th>\n",
              "      <th>tolls_amount</th>\n",
              "      <th>improvement_surcharge</th>\n",
              "      <th>total_amount</th>\n",
              "      <th>congestion_surcharge</th>\n",
              "    </tr>\n",
              "  </thead>\n",
              "  <tbody>\n",
              "    <tr>\n",
              "      <th>count</th>\n",
              "      <td>1.318487e+07</td>\n",
              "      <td>1.318487e+07</td>\n",
              "      <td>1.318487e+07</td>\n",
              "      <td>1.318487e+07</td>\n",
              "      <td>1.318487e+07</td>\n",
              "      <td>1.318487e+07</td>\n",
              "      <td>1.318487e+07</td>\n",
              "      <td>1.318487e+07</td>\n",
              "      <td>1.318487e+07</td>\n",
              "      <td>1.318487e+07</td>\n",
              "      <td>1.318487e+07</td>\n",
              "      <td>1.318487e+07</td>\n",
              "      <td>1.318487e+07</td>\n",
              "      <td>1.318487e+07</td>\n",
              "      <td>1.318487e+07</td>\n",
              "    </tr>\n",
              "    <tr>\n",
              "      <th>mean</th>\n",
              "      <td>1.667980e+00</td>\n",
              "      <td>1.533787e+00</td>\n",
              "      <td>2.899569e+00</td>\n",
              "      <td>1.062944e+00</td>\n",
              "      <td>1.644183e+02</td>\n",
              "      <td>1.623319e+02</td>\n",
              "      <td>1.285196e+00</td>\n",
              "      <td>1.298932e+01</td>\n",
              "      <td>1.096852e+00</td>\n",
              "      <td>4.936646e-01</td>\n",
              "      <td>2.236968e+00</td>\n",
              "      <td>3.572071e-01</td>\n",
              "      <td>2.979711e-01</td>\n",
              "      <td>1.900764e+01</td>\n",
              "      <td>2.295475e+00</td>\n",
              "    </tr>\n",
              "    <tr>\n",
              "      <th>std</th>\n",
              "      <td>4.709382e-01</td>\n",
              "      <td>1.163589e+00</td>\n",
              "      <td>6.510600e+00</td>\n",
              "      <td>8.757305e-01</td>\n",
              "      <td>6.568355e+01</td>\n",
              "      <td>7.002877e+01</td>\n",
              "      <td>4.815006e-01</td>\n",
              "      <td>1.104274e+02</td>\n",
              "      <td>1.252851e+00</td>\n",
              "      <td>6.866321e-02</td>\n",
              "      <td>2.824207e+00</td>\n",
              "      <td>1.721354e+00</td>\n",
              "      <td>3.396974e-02</td>\n",
              "      <td>1.107658e+02</td>\n",
              "      <td>7.070883e-01</td>\n",
              "    </tr>\n",
              "    <tr>\n",
              "      <th>min</th>\n",
              "      <td>1.000000e+00</td>\n",
              "      <td>0.000000e+00</td>\n",
              "      <td>-2.301000e+01</td>\n",
              "      <td>1.000000e+00</td>\n",
              "      <td>1.000000e+00</td>\n",
              "      <td>1.000000e+00</td>\n",
              "      <td>1.000000e+00</td>\n",
              "      <td>-1.472000e+03</td>\n",
              "      <td>-2.700000e+01</td>\n",
              "      <td>-5.000000e-01</td>\n",
              "      <td>-2.008000e+02</td>\n",
              "      <td>-4.050000e+01</td>\n",
              "      <td>-3.000000e-01</td>\n",
              "      <td>-1.472800e+03</td>\n",
              "      <td>-2.500000e+00</td>\n",
              "    </tr>\n",
              "    <tr>\n",
              "      <th>25%</th>\n",
              "      <td>1.000000e+00</td>\n",
              "      <td>1.000000e+00</td>\n",
              "      <td>9.500000e-01</td>\n",
              "      <td>1.000000e+00</td>\n",
              "      <td>1.320000e+02</td>\n",
              "      <td>1.130000e+02</td>\n",
              "      <td>1.000000e+00</td>\n",
              "      <td>6.500000e+00</td>\n",
              "      <td>0.000000e+00</td>\n",
              "      <td>5.000000e-01</td>\n",
              "      <td>0.000000e+00</td>\n",
              "      <td>0.000000e+00</td>\n",
              "      <td>3.000000e-01</td>\n",
              "      <td>1.127000e+01</td>\n",
              "      <td>2.500000e+00</td>\n",
              "    </tr>\n",
              "    <tr>\n",
              "      <th>50%</th>\n",
              "      <td>2.000000e+00</td>\n",
              "      <td>1.000000e+00</td>\n",
              "      <td>1.600000e+00</td>\n",
              "      <td>1.000000e+00</td>\n",
              "      <td>1.620000e+02</td>\n",
              "      <td>1.620000e+02</td>\n",
              "      <td>1.000000e+00</td>\n",
              "      <td>9.500000e+00</td>\n",
              "      <td>5.000000e-01</td>\n",
              "      <td>5.000000e-01</td>\n",
              "      <td>1.950000e+00</td>\n",
              "      <td>0.000000e+00</td>\n",
              "      <td>3.000000e-01</td>\n",
              "      <td>1.475000e+01</td>\n",
              "      <td>2.500000e+00</td>\n",
              "    </tr>\n",
              "    <tr>\n",
              "      <th>75%</th>\n",
              "      <td>2.000000e+00</td>\n",
              "      <td>2.000000e+00</td>\n",
              "      <td>2.940000e+00</td>\n",
              "      <td>1.000000e+00</td>\n",
              "      <td>2.340000e+02</td>\n",
              "      <td>2.340000e+02</td>\n",
              "      <td>2.000000e+00</td>\n",
              "      <td>1.450000e+01</td>\n",
              "      <td>2.500000e+00</td>\n",
              "      <td>5.000000e-01</td>\n",
              "      <td>2.960000e+00</td>\n",
              "      <td>0.000000e+00</td>\n",
              "      <td>3.000000e-01</td>\n",
              "      <td>2.030000e+01</td>\n",
              "      <td>2.500000e+00</td>\n",
              "    </tr>\n",
              "    <tr>\n",
              "      <th>max</th>\n",
              "      <td>2.000000e+00</td>\n",
              "      <td>9.000000e+00</td>\n",
              "      <td>1.913018e+04</td>\n",
              "      <td>9.900000e+01</td>\n",
              "      <td>2.650000e+02</td>\n",
              "      <td>2.650000e+02</td>\n",
              "      <td>5.000000e+00</td>\n",
              "      <td>3.984684e+05</td>\n",
              "      <td>1.130100e+02</td>\n",
              "      <td>3.080000e+01</td>\n",
              "      <td>1.100000e+03</td>\n",
              "      <td>9.105000e+02</td>\n",
              "      <td>3.000000e-01</td>\n",
              "      <td>3.984712e+05</td>\n",
              "      <td>3.000000e+00</td>\n",
              "    </tr>\n",
              "  </tbody>\n",
              "</table>\n",
              "</div>"
            ],
            "text/plain": [
              "           VendorID  passenger_count  ...  total_amount  congestion_surcharge\n",
              "count  1.318487e+07     1.318487e+07  ...  1.318487e+07          1.318487e+07\n",
              "mean   1.667980e+00     1.533787e+00  ...  1.900764e+01          2.295475e+00\n",
              "std    4.709382e-01     1.163589e+00  ...  1.107658e+02          7.070883e-01\n",
              "min    1.000000e+00     0.000000e+00  ... -1.472800e+03         -2.500000e+00\n",
              "25%    1.000000e+00     1.000000e+00  ...  1.127000e+01          2.500000e+00\n",
              "50%    2.000000e+00     1.000000e+00  ...  1.475000e+01          2.500000e+00\n",
              "75%    2.000000e+00     2.000000e+00  ...  2.030000e+01          2.500000e+00\n",
              "max    2.000000e+00     9.000000e+00  ...  3.984712e+05          3.000000e+00\n",
              "\n",
              "[8 rows x 15 columns]"
            ]
          },
          "metadata": {},
          "execution_count": 4
        }
      ]
    },
    {
      "cell_type": "code",
      "metadata": {
        "colab": {
          "base_uri": "https://localhost:8080/"
        },
        "id": "yvjeto3SrLZY",
        "outputId": "dd12da79-6e01-43bd-afa1-976fa366caef"
      },
      "source": [
        "data['VendorID'].unique()"
      ],
      "execution_count": null,
      "outputs": [
        {
          "output_type": "execute_result",
          "data": {
            "text/plain": [
              "array([1, 2])"
            ]
          },
          "metadata": {},
          "execution_count": 5
        }
      ]
    },
    {
      "cell_type": "code",
      "metadata": {
        "colab": {
          "base_uri": "https://localhost:8080/"
        },
        "id": "zzu6BS01sJM_",
        "outputId": "745871b3-632f-48a4-e118-f6a8c1671b44"
      },
      "source": [
        "data['congestion_surcharge'].unique()"
      ],
      "execution_count": null,
      "outputs": [
        {
          "output_type": "execute_result",
          "data": {
            "text/plain": [
              "array([ 2.5 ,  0.  , -2.5 ,  0.75,  2.75,  0.5 , -1.5 ,  1.5 , -0.75,\n",
              "        3.  ,  1.  ,  2.  ])"
            ]
          },
          "metadata": {},
          "execution_count": 6
        }
      ]
    },
    {
      "cell_type": "markdown",
      "metadata": {
        "id": "F9jXyW4Lmtpu"
      },
      "source": [
        "Базовая эвристика для отсечения очевидно некорректных данных:\n",
        "все значения признаков должны быть больше нуля. Для ряда признаков достаточно нестрогого неравенства (например, congestion_surcharge)"
      ]
    },
    {
      "cell_type": "code",
      "metadata": {
        "id": "vjYGkr3xltSk",
        "colab": {
          "base_uri": "https://localhost:8080/"
        },
        "outputId": "11e4bc52-8204-401c-fa2d-3d1b8b3a79fd"
      },
      "source": [
        "data['passenger_count'].value_counts()"
      ],
      "execution_count": null,
      "outputs": [
        {
          "output_type": "execute_result",
          "data": {
            "text/plain": [
              "1    9330618\n",
              "2    2022170\n",
              "3     553241\n",
              "5     470580\n",
              "4     288401\n",
              "6     280079\n",
              "0     239633\n",
              "7         74\n",
              "9         35\n",
              "8         35\n",
              "Name: passenger_count, dtype: int64"
            ]
          },
          "metadata": {},
          "execution_count": 7
        }
      ]
    },
    {
      "cell_type": "code",
      "metadata": {
        "colab": {
          "base_uri": "https://localhost:8080/",
          "height": 439
        },
        "id": "FnbNfXZIYIqw",
        "outputId": "cf6315e9-7c72-4b63-940f-9c44edcf4ac8"
      },
      "source": [
        "data[data['passenger_count'] == 0]"
      ],
      "execution_count": null,
      "outputs": [
        {
          "output_type": "execute_result",
          "data": {
            "text/html": [
              "<div>\n",
              "<style scoped>\n",
              "    .dataframe tbody tr th:only-of-type {\n",
              "        vertical-align: middle;\n",
              "    }\n",
              "\n",
              "    .dataframe tbody tr th {\n",
              "        vertical-align: top;\n",
              "    }\n",
              "\n",
              "    .dataframe thead th {\n",
              "        text-align: right;\n",
              "    }\n",
              "</style>\n",
              "<table border=\"1\" class=\"dataframe\">\n",
              "  <thead>\n",
              "    <tr style=\"text-align: right;\">\n",
              "      <th></th>\n",
              "      <th>VendorID</th>\n",
              "      <th>tpep_pickup_datetime</th>\n",
              "      <th>tpep_dropoff_datetime</th>\n",
              "      <th>passenger_count</th>\n",
              "      <th>trip_distance</th>\n",
              "      <th>RatecodeID</th>\n",
              "      <th>store_and_fwd_flag</th>\n",
              "      <th>PULocationID</th>\n",
              "      <th>DOLocationID</th>\n",
              "      <th>payment_type</th>\n",
              "      <th>fare_amount</th>\n",
              "      <th>extra</th>\n",
              "      <th>mta_tax</th>\n",
              "      <th>tip_amount</th>\n",
              "      <th>tolls_amount</th>\n",
              "      <th>improvement_surcharge</th>\n",
              "      <th>total_amount</th>\n",
              "      <th>congestion_surcharge</th>\n",
              "    </tr>\n",
              "  </thead>\n",
              "  <tbody>\n",
              "    <tr>\n",
              "      <th>6</th>\n",
              "      <td>1</td>\n",
              "      <td>2019-12-01 00:14:19</td>\n",
              "      <td>2019-12-01 00:27:06</td>\n",
              "      <td>0</td>\n",
              "      <td>1.7</td>\n",
              "      <td>1</td>\n",
              "      <td>Y</td>\n",
              "      <td>164</td>\n",
              "      <td>163</td>\n",
              "      <td>2</td>\n",
              "      <td>10.0</td>\n",
              "      <td>3.0</td>\n",
              "      <td>0.5</td>\n",
              "      <td>0.00</td>\n",
              "      <td>0.0</td>\n",
              "      <td>0.3</td>\n",
              "      <td>13.80</td>\n",
              "      <td>2.5</td>\n",
              "    </tr>\n",
              "    <tr>\n",
              "      <th>7</th>\n",
              "      <td>1</td>\n",
              "      <td>2019-12-01 00:29:35</td>\n",
              "      <td>2019-12-01 00:32:29</td>\n",
              "      <td>0</td>\n",
              "      <td>0.5</td>\n",
              "      <td>1</td>\n",
              "      <td>N</td>\n",
              "      <td>79</td>\n",
              "      <td>224</td>\n",
              "      <td>1</td>\n",
              "      <td>4.0</td>\n",
              "      <td>3.0</td>\n",
              "      <td>0.5</td>\n",
              "      <td>1.55</td>\n",
              "      <td>0.0</td>\n",
              "      <td>0.3</td>\n",
              "      <td>9.35</td>\n",
              "      <td>2.5</td>\n",
              "    </tr>\n",
              "    <tr>\n",
              "      <th>8</th>\n",
              "      <td>1</td>\n",
              "      <td>2019-12-01 00:42:19</td>\n",
              "      <td>2019-12-01 00:50:34</td>\n",
              "      <td>0</td>\n",
              "      <td>1.4</td>\n",
              "      <td>1</td>\n",
              "      <td>N</td>\n",
              "      <td>79</td>\n",
              "      <td>107</td>\n",
              "      <td>2</td>\n",
              "      <td>7.5</td>\n",
              "      <td>3.0</td>\n",
              "      <td>0.5</td>\n",
              "      <td>0.00</td>\n",
              "      <td>0.0</td>\n",
              "      <td>0.3</td>\n",
              "      <td>11.30</td>\n",
              "      <td>2.5</td>\n",
              "    </tr>\n",
              "    <tr>\n",
              "      <th>14</th>\n",
              "      <td>1</td>\n",
              "      <td>2019-12-01 00:04:40</td>\n",
              "      <td>2019-12-01 00:31:27</td>\n",
              "      <td>0</td>\n",
              "      <td>17.4</td>\n",
              "      <td>2</td>\n",
              "      <td>N</td>\n",
              "      <td>132</td>\n",
              "      <td>141</td>\n",
              "      <td>1</td>\n",
              "      <td>52.0</td>\n",
              "      <td>2.5</td>\n",
              "      <td>0.5</td>\n",
              "      <td>5.53</td>\n",
              "      <td>0.0</td>\n",
              "      <td>0.3</td>\n",
              "      <td>60.83</td>\n",
              "      <td>2.5</td>\n",
              "    </tr>\n",
              "    <tr>\n",
              "      <th>95</th>\n",
              "      <td>1</td>\n",
              "      <td>2019-12-01 00:03:41</td>\n",
              "      <td>2019-12-01 00:11:44</td>\n",
              "      <td>0</td>\n",
              "      <td>2.1</td>\n",
              "      <td>1</td>\n",
              "      <td>N</td>\n",
              "      <td>186</td>\n",
              "      <td>125</td>\n",
              "      <td>1</td>\n",
              "      <td>8.0</td>\n",
              "      <td>3.0</td>\n",
              "      <td>0.5</td>\n",
              "      <td>2.35</td>\n",
              "      <td>0.0</td>\n",
              "      <td>0.3</td>\n",
              "      <td>14.15</td>\n",
              "      <td>2.5</td>\n",
              "    </tr>\n",
              "    <tr>\n",
              "      <th>...</th>\n",
              "      <td>...</td>\n",
              "      <td>...</td>\n",
              "      <td>...</td>\n",
              "      <td>...</td>\n",
              "      <td>...</td>\n",
              "      <td>...</td>\n",
              "      <td>...</td>\n",
              "      <td>...</td>\n",
              "      <td>...</td>\n",
              "      <td>...</td>\n",
              "      <td>...</td>\n",
              "      <td>...</td>\n",
              "      <td>...</td>\n",
              "      <td>...</td>\n",
              "      <td>...</td>\n",
              "      <td>...</td>\n",
              "      <td>...</td>\n",
              "      <td>...</td>\n",
              "    </tr>\n",
              "    <tr>\n",
              "      <th>13184368</th>\n",
              "      <td>1</td>\n",
              "      <td>2020-01-31 23:10:10</td>\n",
              "      <td>2020-01-31 23:42:25</td>\n",
              "      <td>0</td>\n",
              "      <td>15.9</td>\n",
              "      <td>1</td>\n",
              "      <td>N</td>\n",
              "      <td>132</td>\n",
              "      <td>145</td>\n",
              "      <td>1</td>\n",
              "      <td>46.0</td>\n",
              "      <td>0.5</td>\n",
              "      <td>0.5</td>\n",
              "      <td>10.00</td>\n",
              "      <td>0.0</td>\n",
              "      <td>0.3</td>\n",
              "      <td>57.30</td>\n",
              "      <td>0.0</td>\n",
              "    </tr>\n",
              "    <tr>\n",
              "      <th>13184369</th>\n",
              "      <td>1</td>\n",
              "      <td>2020-01-31 23:51:26</td>\n",
              "      <td>2020-01-31 23:57:39</td>\n",
              "      <td>0</td>\n",
              "      <td>1.9</td>\n",
              "      <td>1</td>\n",
              "      <td>N</td>\n",
              "      <td>229</td>\n",
              "      <td>107</td>\n",
              "      <td>1</td>\n",
              "      <td>7.5</td>\n",
              "      <td>3.0</td>\n",
              "      <td>0.5</td>\n",
              "      <td>2.25</td>\n",
              "      <td>0.0</td>\n",
              "      <td>0.3</td>\n",
              "      <td>13.55</td>\n",
              "      <td>2.5</td>\n",
              "    </tr>\n",
              "    <tr>\n",
              "      <th>13184825</th>\n",
              "      <td>1</td>\n",
              "      <td>2020-01-31 23:51:21</td>\n",
              "      <td>2020-01-31 23:57:20</td>\n",
              "      <td>0</td>\n",
              "      <td>0.8</td>\n",
              "      <td>1</td>\n",
              "      <td>N</td>\n",
              "      <td>79</td>\n",
              "      <td>148</td>\n",
              "      <td>1</td>\n",
              "      <td>6.0</td>\n",
              "      <td>3.0</td>\n",
              "      <td>0.5</td>\n",
              "      <td>1.76</td>\n",
              "      <td>0.0</td>\n",
              "      <td>0.3</td>\n",
              "      <td>11.56</td>\n",
              "      <td>2.5</td>\n",
              "    </tr>\n",
              "    <tr>\n",
              "      <th>13184836</th>\n",
              "      <td>1</td>\n",
              "      <td>2020-01-31 23:43:08</td>\n",
              "      <td>2020-01-31 23:50:53</td>\n",
              "      <td>0</td>\n",
              "      <td>1.1</td>\n",
              "      <td>1</td>\n",
              "      <td>N</td>\n",
              "      <td>234</td>\n",
              "      <td>186</td>\n",
              "      <td>2</td>\n",
              "      <td>7.0</td>\n",
              "      <td>3.0</td>\n",
              "      <td>0.5</td>\n",
              "      <td>0.00</td>\n",
              "      <td>0.0</td>\n",
              "      <td>0.3</td>\n",
              "      <td>10.80</td>\n",
              "      <td>2.5</td>\n",
              "    </tr>\n",
              "    <tr>\n",
              "      <th>13184837</th>\n",
              "      <td>1</td>\n",
              "      <td>2020-01-31 23:58:13</td>\n",
              "      <td>2020-02-01 00:22:04</td>\n",
              "      <td>0</td>\n",
              "      <td>4.7</td>\n",
              "      <td>1</td>\n",
              "      <td>N</td>\n",
              "      <td>163</td>\n",
              "      <td>232</td>\n",
              "      <td>1</td>\n",
              "      <td>19.5</td>\n",
              "      <td>3.0</td>\n",
              "      <td>0.5</td>\n",
              "      <td>2.00</td>\n",
              "      <td>0.0</td>\n",
              "      <td>0.3</td>\n",
              "      <td>25.30</td>\n",
              "      <td>2.5</td>\n",
              "    </tr>\n",
              "  </tbody>\n",
              "</table>\n",
              "<p>239633 rows × 18 columns</p>\n",
              "</div>"
            ],
            "text/plain": [
              "          VendorID tpep_pickup_datetime  ... total_amount  congestion_surcharge\n",
              "6                1  2019-12-01 00:14:19  ...        13.80                   2.5\n",
              "7                1  2019-12-01 00:29:35  ...         9.35                   2.5\n",
              "8                1  2019-12-01 00:42:19  ...        11.30                   2.5\n",
              "14               1  2019-12-01 00:04:40  ...        60.83                   2.5\n",
              "95               1  2019-12-01 00:03:41  ...        14.15                   2.5\n",
              "...            ...                  ...  ...          ...                   ...\n",
              "13184368         1  2020-01-31 23:10:10  ...        57.30                   0.0\n",
              "13184369         1  2020-01-31 23:51:26  ...        13.55                   2.5\n",
              "13184825         1  2020-01-31 23:51:21  ...        11.56                   2.5\n",
              "13184836         1  2020-01-31 23:43:08  ...        10.80                   2.5\n",
              "13184837         1  2020-01-31 23:58:13  ...        25.30                   2.5\n",
              "\n",
              "[239633 rows x 18 columns]"
            ]
          },
          "metadata": {},
          "execution_count": 8
        }
      ]
    },
    {
      "cell_type": "markdown",
      "metadata": {
        "id": "08NABeqIhI21"
      },
      "source": [
        "Какие-то странные поездки с 0 пассажиров. Несмотря на то, что таких данных много, придется для baseline их выкинуть, потому как непонятно, как поездка может быть без пассажиров."
      ]
    },
    {
      "cell_type": "code",
      "metadata": {
        "colab": {
          "base_uri": "https://localhost:8080/"
        },
        "id": "Zw8s627yYSan",
        "outputId": "b8107d82-613f-4e2c-87a2-675e16f8d2e5"
      },
      "source": [
        "data[data['passenger_count'] == 0].shape[0] / data.shape[0]"
      ],
      "execution_count": null,
      "outputs": [
        {
          "output_type": "execute_result",
          "data": {
            "text/plain": [
              "0.018174852895736674"
            ]
          },
          "metadata": {},
          "execution_count": 9
        }
      ]
    },
    {
      "cell_type": "code",
      "metadata": {
        "id": "l3toYwDLlCzF"
      },
      "source": [
        "data = data[data['passenger_count'] != 0]"
      ],
      "execution_count": null,
      "outputs": []
    },
    {
      "cell_type": "markdown",
      "metadata": {
        "id": "FZ-3Vz-jnKjH"
      },
      "source": [
        "Посмотрим распределение trip_distance"
      ]
    },
    {
      "cell_type": "code",
      "metadata": {
        "colab": {
          "base_uri": "https://localhost:8080/",
          "height": 351
        },
        "id": "ifS6wzP8nSmX",
        "outputId": "d1ebacd9-db43-45b0-c4bc-ca6146fe9ae5"
      },
      "source": [
        "sns.boxplot(data['trip_distance'])"
      ],
      "execution_count": null,
      "outputs": [
        {
          "output_type": "stream",
          "text": [
            "/usr/local/lib/python3.7/dist-packages/seaborn/_decorators.py:43: FutureWarning: Pass the following variable as a keyword arg: x. From version 0.12, the only valid positional argument will be `data`, and passing other arguments without an explicit keyword will result in an error or misinterpretation.\n",
            "  FutureWarning\n"
          ],
          "name": "stderr"
        },
        {
          "output_type": "execute_result",
          "data": {
            "text/plain": [
              "<matplotlib.axes._subplots.AxesSubplot at 0x7f3ee875c0d0>"
            ]
          },
          "metadata": {},
          "execution_count": 11
        },
        {
          "output_type": "display_data",
          "data": {
            "image/png": "[encoded data removed]",
            "text/plain": [
              "<Figure size 432x288 with 1 Axes>"
            ]
          },
          "metadata": {
            "needs_background": "light"
          }
        }
      ]
    },
    {
      "cell_type": "markdown",
      "metadata": {
        "id": "eYcECNfEvDCM"
      },
      "source": [
        "Есть какая-то длинная поездка, которая очевидно некорректная. Посмотрим ранжированный ряд по дистанции поездки:"
      ]
    },
    {
      "cell_type": "code",
      "metadata": {
        "colab": {
          "base_uri": "https://localhost:8080/",
          "height": 439
        },
        "id": "DgaJ3iEupPk9",
        "outputId": "bbfafa6d-05d5-4a6b-9771-da01fee2594f"
      },
      "source": [
        "data.sort_values('trip_distance', ascending=False)"
      ],
      "execution_count": null,
      "outputs": [
        {
          "output_type": "execute_result",
          "data": {
            "text/html": [
              "<div>\n",
              "<style scoped>\n",
              "    .dataframe tbody tr th:only-of-type {\n",
              "        vertical-align: middle;\n",
              "    }\n",
              "\n",
              "    .dataframe tbody tr th {\n",
              "        vertical-align: top;\n",
              "    }\n",
              "\n",
              "    .dataframe thead th {\n",
              "        text-align: right;\n",
              "    }\n",
              "</style>\n",
              "<table border=\"1\" class=\"dataframe\">\n",
              "  <thead>\n",
              "    <tr style=\"text-align: right;\">\n",
              "      <th></th>\n",
              "      <th>VendorID</th>\n",
              "      <th>tpep_pickup_datetime</th>\n",
              "      <th>tpep_dropoff_datetime</th>\n",
              "      <th>passenger_count</th>\n",
              "      <th>trip_distance</th>\n",
              "      <th>RatecodeID</th>\n",
              "      <th>store_and_fwd_flag</th>\n",
              "      <th>PULocationID</th>\n",
              "      <th>DOLocationID</th>\n",
              "      <th>payment_type</th>\n",
              "      <th>fare_amount</th>\n",
              "      <th>extra</th>\n",
              "      <th>mta_tax</th>\n",
              "      <th>tip_amount</th>\n",
              "      <th>tolls_amount</th>\n",
              "      <th>improvement_surcharge</th>\n",
              "      <th>total_amount</th>\n",
              "      <th>congestion_surcharge</th>\n",
              "    </tr>\n",
              "  </thead>\n",
              "  <tbody>\n",
              "    <tr>\n",
              "      <th>704581</th>\n",
              "      <td>2</td>\n",
              "      <td>2019-12-04 10:20:13</td>\n",
              "      <td>2019-12-04 10:24:43</td>\n",
              "      <td>1</td>\n",
              "      <td>19130.18</td>\n",
              "      <td>5</td>\n",
              "      <td>N</td>\n",
              "      <td>224</td>\n",
              "      <td>224</td>\n",
              "      <td>2</td>\n",
              "      <td>11.00</td>\n",
              "      <td>0.0</td>\n",
              "      <td>0.0</td>\n",
              "      <td>0.00</td>\n",
              "      <td>0.00</td>\n",
              "      <td>0.0</td>\n",
              "      <td>11.00</td>\n",
              "      <td>0.0</td>\n",
              "    </tr>\n",
              "    <tr>\n",
              "      <th>5835474</th>\n",
              "      <td>2</td>\n",
              "      <td>2019-12-25 20:44:07</td>\n",
              "      <td>2019-12-26 03:10:41</td>\n",
              "      <td>2</td>\n",
              "      <td>363.13</td>\n",
              "      <td>5</td>\n",
              "      <td>N</td>\n",
              "      <td>132</td>\n",
              "      <td>265</td>\n",
              "      <td>2</td>\n",
              "      <td>400.00</td>\n",
              "      <td>0.0</td>\n",
              "      <td>0.5</td>\n",
              "      <td>0.00</td>\n",
              "      <td>46.34</td>\n",
              "      <td>0.3</td>\n",
              "      <td>447.14</td>\n",
              "      <td>0.0</td>\n",
              "    </tr>\n",
              "    <tr>\n",
              "      <th>2121568</th>\n",
              "      <td>2</td>\n",
              "      <td>2019-12-09 21:17:33</td>\n",
              "      <td>2019-12-10 02:55:18</td>\n",
              "      <td>4</td>\n",
              "      <td>323.81</td>\n",
              "      <td>5</td>\n",
              "      <td>N</td>\n",
              "      <td>130</td>\n",
              "      <td>265</td>\n",
              "      <td>2</td>\n",
              "      <td>400.00</td>\n",
              "      <td>0.0</td>\n",
              "      <td>0.0</td>\n",
              "      <td>0.00</td>\n",
              "      <td>126.00</td>\n",
              "      <td>0.3</td>\n",
              "      <td>526.30</td>\n",
              "      <td>0.0</td>\n",
              "    </tr>\n",
              "    <tr>\n",
              "      <th>6394756</th>\n",
              "      <td>1</td>\n",
              "      <td>2019-12-29 12:29:25</td>\n",
              "      <td>2019-12-29 12:34:03</td>\n",
              "      <td>1</td>\n",
              "      <td>300.80</td>\n",
              "      <td>1</td>\n",
              "      <td>N</td>\n",
              "      <td>231</td>\n",
              "      <td>125</td>\n",
              "      <td>2</td>\n",
              "      <td>5.50</td>\n",
              "      <td>2.5</td>\n",
              "      <td>0.5</td>\n",
              "      <td>0.00</td>\n",
              "      <td>0.00</td>\n",
              "      <td>0.3</td>\n",
              "      <td>8.80</td>\n",
              "      <td>2.5</td>\n",
              "    </tr>\n",
              "    <tr>\n",
              "      <th>8999979</th>\n",
              "      <td>2</td>\n",
              "      <td>2020-01-12 09:19:23</td>\n",
              "      <td>2020-01-12 13:49:59</td>\n",
              "      <td>4</td>\n",
              "      <td>262.88</td>\n",
              "      <td>5</td>\n",
              "      <td>N</td>\n",
              "      <td>132</td>\n",
              "      <td>265</td>\n",
              "      <td>1</td>\n",
              "      <td>600.00</td>\n",
              "      <td>0.0</td>\n",
              "      <td>0.0</td>\n",
              "      <td>0.00</td>\n",
              "      <td>55.55</td>\n",
              "      <td>0.3</td>\n",
              "      <td>658.35</td>\n",
              "      <td>2.5</td>\n",
              "    </tr>\n",
              "    <tr>\n",
              "      <th>...</th>\n",
              "      <td>...</td>\n",
              "      <td>...</td>\n",
              "      <td>...</td>\n",
              "      <td>...</td>\n",
              "      <td>...</td>\n",
              "      <td>...</td>\n",
              "      <td>...</td>\n",
              "      <td>...</td>\n",
              "      <td>...</td>\n",
              "      <td>...</td>\n",
              "      <td>...</td>\n",
              "      <td>...</td>\n",
              "      <td>...</td>\n",
              "      <td>...</td>\n",
              "      <td>...</td>\n",
              "      <td>...</td>\n",
              "      <td>...</td>\n",
              "      <td>...</td>\n",
              "    </tr>\n",
              "    <tr>\n",
              "      <th>2851153</th>\n",
              "      <td>2</td>\n",
              "      <td>2019-12-12 19:58:10</td>\n",
              "      <td>2019-12-12 20:26:34</td>\n",
              "      <td>1</td>\n",
              "      <td>-9.94</td>\n",
              "      <td>5</td>\n",
              "      <td>N</td>\n",
              "      <td>228</td>\n",
              "      <td>233</td>\n",
              "      <td>1</td>\n",
              "      <td>29.22</td>\n",
              "      <td>0.0</td>\n",
              "      <td>0.5</td>\n",
              "      <td>7.73</td>\n",
              "      <td>6.12</td>\n",
              "      <td>0.3</td>\n",
              "      <td>48.32</td>\n",
              "      <td>2.5</td>\n",
              "    </tr>\n",
              "    <tr>\n",
              "      <th>8201012</th>\n",
              "      <td>2</td>\n",
              "      <td>2020-01-08 16:59:49</td>\n",
              "      <td>2020-01-08 17:43:23</td>\n",
              "      <td>1</td>\n",
              "      <td>-10.94</td>\n",
              "      <td>5</td>\n",
              "      <td>N</td>\n",
              "      <td>45</td>\n",
              "      <td>149</td>\n",
              "      <td>2</td>\n",
              "      <td>59.32</td>\n",
              "      <td>0.0</td>\n",
              "      <td>0.5</td>\n",
              "      <td>0.00</td>\n",
              "      <td>6.12</td>\n",
              "      <td>0.3</td>\n",
              "      <td>66.24</td>\n",
              "      <td>0.0</td>\n",
              "    </tr>\n",
              "    <tr>\n",
              "      <th>5494246</th>\n",
              "      <td>2</td>\n",
              "      <td>2019-12-23 14:07:46</td>\n",
              "      <td>2019-12-23 15:13:28</td>\n",
              "      <td>1</td>\n",
              "      <td>-19.23</td>\n",
              "      <td>5</td>\n",
              "      <td>N</td>\n",
              "      <td>86</td>\n",
              "      <td>82</td>\n",
              "      <td>2</td>\n",
              "      <td>56.72</td>\n",
              "      <td>0.0</td>\n",
              "      <td>0.5</td>\n",
              "      <td>0.00</td>\n",
              "      <td>0.00</td>\n",
              "      <td>0.3</td>\n",
              "      <td>57.52</td>\n",
              "      <td>0.0</td>\n",
              "    </tr>\n",
              "    <tr>\n",
              "      <th>7802868</th>\n",
              "      <td>2</td>\n",
              "      <td>2020-01-06 16:56:47</td>\n",
              "      <td>2020-01-06 17:54:29</td>\n",
              "      <td>1</td>\n",
              "      <td>-22.18</td>\n",
              "      <td>5</td>\n",
              "      <td>N</td>\n",
              "      <td>140</td>\n",
              "      <td>210</td>\n",
              "      <td>2</td>\n",
              "      <td>58.92</td>\n",
              "      <td>0.0</td>\n",
              "      <td>0.5</td>\n",
              "      <td>0.00</td>\n",
              "      <td>6.12</td>\n",
              "      <td>0.3</td>\n",
              "      <td>65.84</td>\n",
              "      <td>0.0</td>\n",
              "    </tr>\n",
              "    <tr>\n",
              "      <th>4450877</th>\n",
              "      <td>2</td>\n",
              "      <td>2019-12-18 23:06:55</td>\n",
              "      <td>2019-12-18 23:59:43</td>\n",
              "      <td>1</td>\n",
              "      <td>-23.01</td>\n",
              "      <td>5</td>\n",
              "      <td>N</td>\n",
              "      <td>87</td>\n",
              "      <td>222</td>\n",
              "      <td>2</td>\n",
              "      <td>53.54</td>\n",
              "      <td>0.0</td>\n",
              "      <td>0.0</td>\n",
              "      <td>0.00</td>\n",
              "      <td>6.12</td>\n",
              "      <td>0.0</td>\n",
              "      <td>59.66</td>\n",
              "      <td>0.0</td>\n",
              "    </tr>\n",
              "  </tbody>\n",
              "</table>\n",
              "<p>12945233 rows × 18 columns</p>\n",
              "</div>"
            ],
            "text/plain": [
              "         VendorID tpep_pickup_datetime  ... total_amount  congestion_surcharge\n",
              "704581          2  2019-12-04 10:20:13  ...        11.00                   0.0\n",
              "5835474         2  2019-12-25 20:44:07  ...       447.14                   0.0\n",
              "2121568         2  2019-12-09 21:17:33  ...       526.30                   0.0\n",
              "6394756         1  2019-12-29 12:29:25  ...         8.80                   2.5\n",
              "8999979         2  2020-01-12 09:19:23  ...       658.35                   2.5\n",
              "...           ...                  ...  ...          ...                   ...\n",
              "2851153         2  2019-12-12 19:58:10  ...        48.32                   2.5\n",
              "8201012         2  2020-01-08 16:59:49  ...        66.24                   0.0\n",
              "5494246         2  2019-12-23 14:07:46  ...        57.52                   0.0\n",
              "7802868         2  2020-01-06 16:56:47  ...        65.84                   0.0\n",
              "4450877         2  2019-12-18 23:06:55  ...        59.66                   0.0\n",
              "\n",
              "[12945233 rows x 18 columns]"
            ]
          },
          "metadata": {},
          "execution_count": 12
        }
      ]
    },
    {
      "cell_type": "markdown",
      "metadata": {
        "id": "lKB8ViYWwDRL"
      },
      "source": [
        "За 19 тысяч миль заплатили всего лишь 11 долларов, звучит нереалистично. Также мы видим, что, например, 300 миль были проеханы за 5 минут для объекта с id = 6394756. Уберем за одно и отрицательные значения, следуя базовой эвристике"
      ]
    },
    {
      "cell_type": "code",
      "metadata": {
        "id": "UD_Qd8JvvnyQ"
      },
      "source": [
        "data = data[data['trip_distance'] > 0]"
      ],
      "execution_count": null,
      "outputs": []
    },
    {
      "cell_type": "code",
      "metadata": {
        "id": "VZloenTPyGce"
      },
      "source": [
        "data.drop(data[data['trip_distance'] > 370].index, inplace=True)"
      ],
      "execution_count": null,
      "outputs": []
    },
    {
      "cell_type": "code",
      "metadata": {
        "colab": {
          "base_uri": "https://localhost:8080/"
        },
        "id": "0h40BGt5zgi0",
        "outputId": "f6cbe938-9e81-4c77-abb4-6ecebcfb7c9a"
      },
      "source": [
        "data.dtypes"
      ],
      "execution_count": null,
      "outputs": [
        {
          "output_type": "execute_result",
          "data": {
            "text/plain": [
              "VendorID                          int64\n",
              "tpep_pickup_datetime     datetime64[ns]\n",
              "tpep_dropoff_datetime    datetime64[ns]\n",
              "passenger_count                   int64\n",
              "trip_distance                   float64\n",
              "RatecodeID                        int64\n",
              "store_and_fwd_flag               object\n",
              "PULocationID                      int64\n",
              "DOLocationID                      int64\n",
              "payment_type                      int64\n",
              "fare_amount                     float64\n",
              "extra                           float64\n",
              "mta_tax                         float64\n",
              "tip_amount                      float64\n",
              "tolls_amount                    float64\n",
              "improvement_surcharge           float64\n",
              "total_amount                    float64\n",
              "congestion_surcharge            float64\n",
              "dtype: object"
            ]
          },
          "metadata": {},
          "execution_count": 15
        }
      ]
    },
    {
      "cell_type": "code",
      "metadata": {
        "id": "d4eIiAIivM1H"
      },
      "source": [
        "data = data[(data['tpep_pickup_datetime'].dt.date >= pd.Timestamp('2019-12-01')) & (data['tpep_dropoff_datetime'].dt.date <= pd.Timestamp('2020-01-31'))]"
      ],
      "execution_count": null,
      "outputs": []
    },
    {
      "cell_type": "code",
      "metadata": {
        "id": "jP7uLEZQysH-"
      },
      "source": [
        "# let's add some new feature - duration of trip in min & day of week\n",
        "data['duration_min'] = data['tpep_dropoff_datetime'] - data['tpep_pickup_datetime']"
      ],
      "execution_count": null,
      "outputs": []
    },
    {
      "cell_type": "code",
      "metadata": {
        "id": "HGLkrThAzd2m"
      },
      "source": [
        "data['duration_min'] = data['duration_min'].dt.total_seconds() / 60"
      ],
      "execution_count": null,
      "outputs": []
    },
    {
      "cell_type": "code",
      "metadata": {
        "id": "fTTowzu9F9UI"
      },
      "source": [
        "data.drop(data[data['duration_min'] == 0].index, inplace=True)"
      ],
      "execution_count": null,
      "outputs": []
    },
    {
      "cell_type": "code",
      "metadata": {
        "id": "hy7lGQNBYDS7"
      },
      "source": [
        "data['price_min'] = data['total_amount'] / data['duration_min']"
      ],
      "execution_count": null,
      "outputs": []
    },
    {
      "cell_type": "code",
      "metadata": {
        "id": "DMUZQi8eZV-6"
      },
      "source": [
        "data.drop(data[(data['price_min'].isna())].index, inplace=True)"
      ],
      "execution_count": null,
      "outputs": []
    },
    {
      "cell_type": "code",
      "metadata": {
        "id": "ep71B4sCZc1V"
      },
      "source": [
        "data['miles_in_min'] = data['trip_distance'] / data['duration_min']"
      ],
      "execution_count": null,
      "outputs": []
    },
    {
      "cell_type": "code",
      "metadata": {
        "id": "s0kyolFEptdi"
      },
      "source": [
        "data['day_of_week'] = data[['tpep_pickup_datetime', 'tpep_dropoff_datetime']].max(axis=1).dt.day_name()"
      ],
      "execution_count": null,
      "outputs": []
    },
    {
      "cell_type": "code",
      "metadata": {
        "colab": {
          "base_uri": "https://localhost:8080/"
        },
        "id": "o_PRB05tq-9f",
        "outputId": "b59663c9-a259-4a0c-dd2e-258ee681018c"
      },
      "source": [
        "data['day_of_week']"
      ],
      "execution_count": null,
      "outputs": [
        {
          "output_type": "execute_result",
          "data": {
            "text/plain": [
              "0           Sunday\n",
              "3           Sunday\n",
              "4           Sunday\n",
              "5           Sunday\n",
              "9           Sunday\n",
              "             ...  \n",
              "13184860    Friday\n",
              "13184861    Friday\n",
              "13184862    Friday\n",
              "13184863    Friday\n",
              "13184864    Friday\n",
              "Name: day_of_week, Length: 12809383, dtype: object"
            ]
          },
          "metadata": {},
          "execution_count": 24
        }
      ]
    },
    {
      "cell_type": "code",
      "metadata": {
        "id": "1ljgzk9QrTGJ"
      },
      "source": [
        "def map_is_weekend(day_of_week: str) -> bool:\n",
        "  if day_of_week == 'Sunday' or day_of_week == 'Saturday':\n",
        "    return 1\n",
        "  else:\n",
        "    return 0"
      ],
      "execution_count": null,
      "outputs": []
    },
    {
      "cell_type": "code",
      "metadata": {
        "id": "PoWy-2anqvsZ"
      },
      "source": [
        "data['is_weekend'] = data['day_of_week'].map(map_is_weekend)"
      ],
      "execution_count": null,
      "outputs": []
    },
    {
      "cell_type": "markdown",
      "metadata": {
        "id": "HN5baKg9HFqt"
      },
      "source": [
        "Достаточно маловероятно, что поездка на такси могла длиться более 3-ех часов, поэтому предлагается ограничить сверху 180 минутами. Более того, таких значений не так много:"
      ]
    },
    {
      "cell_type": "code",
      "metadata": {
        "colab": {
          "base_uri": "https://localhost:8080/"
        },
        "id": "ZnAV2xYdGt7D",
        "outputId": "d9f90ec7-93b0-4ecc-9751-a4a61f48642b"
      },
      "source": [
        "sum(data['duration_min'] > 3 * 60)"
      ],
      "execution_count": null,
      "outputs": [
        {
          "output_type": "execute_result",
          "data": {
            "text/plain": [
              "31335"
            ]
          },
          "metadata": {},
          "execution_count": 27
        }
      ]
    },
    {
      "cell_type": "code",
      "metadata": {
        "id": "Lkri-q2LLccH"
      },
      "source": [
        "data.drop(data[data['duration_min'] > 3 * 60].index, inplace=True)"
      ],
      "execution_count": null,
      "outputs": []
    },
    {
      "cell_type": "code",
      "metadata": {
        "colab": {
          "base_uri": "https://localhost:8080/",
          "height": 351
        },
        "id": "mXE2fcQU4ptV",
        "outputId": "52c4c3eb-a625-4333-de74-14f263ab17e7"
      },
      "source": [
        "# back to boxplot, lets take a look on it one more time\n",
        "sns.boxplot(data['miles_in_min'])"
      ],
      "execution_count": null,
      "outputs": [
        {
          "output_type": "stream",
          "text": [
            "/usr/local/lib/python3.7/dist-packages/seaborn/_decorators.py:43: FutureWarning: Pass the following variable as a keyword arg: x. From version 0.12, the only valid positional argument will be `data`, and passing other arguments without an explicit keyword will result in an error or misinterpretation.\n",
            "  FutureWarning\n"
          ],
          "name": "stderr"
        },
        {
          "output_type": "execute_result",
          "data": {
            "text/plain": [
              "<matplotlib.axes._subplots.AxesSubplot at 0x7f3ee6dce290>"
            ]
          },
          "metadata": {},
          "execution_count": 29
        },
        {
          "output_type": "display_data",
          "data": {
            "image/png": "[encoded data removed]",
            "text/plain": [
              "<Figure size 432x288 with 1 Axes>"
            ]
          },
          "metadata": {
            "needs_background": "light"
          }
        }
      ]
    },
    {
      "cell_type": "code",
      "metadata": {
        "colab": {
          "base_uri": "https://localhost:8080/",
          "height": 351
        },
        "id": "i4rgAD6458bs",
        "outputId": "b8acdc2d-b76d-4eb4-94d3-757a08eda996"
      },
      "source": [
        "sns.boxplot(data['trip_distance'])"
      ],
      "execution_count": null,
      "outputs": [
        {
          "output_type": "stream",
          "text": [
            "/usr/local/lib/python3.7/dist-packages/seaborn/_decorators.py:43: FutureWarning: Pass the following variable as a keyword arg: x. From version 0.12, the only valid positional argument will be `data`, and passing other arguments without an explicit keyword will result in an error or misinterpretation.\n",
            "  FutureWarning\n"
          ],
          "name": "stderr"
        },
        {
          "output_type": "execute_result",
          "data": {
            "text/plain": [
              "<matplotlib.axes._subplots.AxesSubplot at 0x7f3ee6d2b110>"
            ]
          },
          "metadata": {},
          "execution_count": 30
        },
        {
          "output_type": "display_data",
          "data": {
            "image/png": "[encoded data removed]",
            "text/plain": [
              "<Figure size 432x288 with 1 Axes>"
            ]
          },
          "metadata": {
            "needs_background": "light"
          }
        }
      ]
    },
    {
      "cell_type": "markdown",
      "metadata": {
        "id": "EPwrlfCT7UJY"
      },
      "source": [
        "По аналогии с длиной пути отсечем данные, у которых все признаки имеют отрицательные значения"
      ]
    },
    {
      "cell_type": "code",
      "metadata": {
        "id": "AzErb3qc8eGX"
      },
      "source": [
        "NUMERIC_COLUMNS = set(data.columns)\n",
        "NON_NUMERICAL_COLUMNS = {'tpep_pickup_datetime', 'tpep_dropoff_datetime', 'store_and_fwd_flag', 'day_of_week'}\n",
        "NUMERIC_COLUMNS = NUMERIC_COLUMNS - NON_NUMERICAL_COLUMNS"
      ],
      "execution_count": null,
      "outputs": []
    },
    {
      "cell_type": "code",
      "metadata": {
        "id": "RKrtmXVZ-xJd"
      },
      "source": [
        "data = data[(data[NUMERIC_COLUMNS] >= 0).all(axis=1)]"
      ],
      "execution_count": null,
      "outputs": []
    },
    {
      "cell_type": "code",
      "metadata": {
        "id": "lG-r3ATe6Wrn"
      },
      "source": [
        "data['price_in_mile'] = data['total_amount'] / data['trip_distance']"
      ],
      "execution_count": null,
      "outputs": []
    },
    {
      "cell_type": "markdown",
      "metadata": {
        "id": "6hscoZTMC9KQ"
      },
      "source": [
        "Попробуем по введенной величине как-то обрезать очевидные ошибочные данные. Предлагается отсечь данные, которые имеют меньшую цену, чем 1 доллар в минуту и 1 доллар в милю одновременно. Данная эвристика не несет в себе строгого доказательства, а лишь основана на логике пользования такси"
      ]
    },
    {
      "cell_type": "code",
      "metadata": {
        "id": "Y3mFk84FD4XY"
      },
      "source": [
        "data.drop(data[(data['price_in_mile'] < 1) & (data['price_min'] < 1)].index, inplace=True)"
      ],
      "execution_count": null,
      "outputs": []
    },
    {
      "cell_type": "markdown",
      "metadata": {
        "id": "zQvPBe5kVIB6"
      },
      "source": [
        "Рассмотрим еще значения fare_amount, то есть так называемого тарифа в зависимости от дистанции и времени поездки. С формальной точки зрении удалим те значения, которые больше порога (возьмем, если fare_amount > 100 одновременно с тем, что дистанция пути менее 0.3 мили)"
      ]
    },
    {
      "cell_type": "code",
      "metadata": {
        "colab": {
          "base_uri": "https://localhost:8080/",
          "height": 419
        },
        "id": "sUeqTuGXC8gZ",
        "outputId": "9f22f3c1-6a68-4d46-94f7-4f02f38ee7d2"
      },
      "source": [
        "data[['fare_amount', 'trip_distance', 'total_amount']].sort_values('fare_amount', ascending=False)"
      ],
      "execution_count": null,
      "outputs": [
        {
          "output_type": "execute_result",
          "data": {
            "text/html": [
              "<div>\n",
              "<style scoped>\n",
              "    .dataframe tbody tr th:only-of-type {\n",
              "        vertical-align: middle;\n",
              "    }\n",
              "\n",
              "    .dataframe tbody tr th {\n",
              "        vertical-align: top;\n",
              "    }\n",
              "\n",
              "    .dataframe thead th {\n",
              "        text-align: right;\n",
              "    }\n",
              "</style>\n",
              "<table border=\"1\" class=\"dataframe\">\n",
              "  <thead>\n",
              "    <tr style=\"text-align: right;\">\n",
              "      <th></th>\n",
              "      <th>fare_amount</th>\n",
              "      <th>trip_distance</th>\n",
              "      <th>total_amount</th>\n",
              "    </tr>\n",
              "  </thead>\n",
              "  <tbody>\n",
              "    <tr>\n",
              "      <th>513922</th>\n",
              "      <td>6012.5</td>\n",
              "      <td>0.20</td>\n",
              "      <td>6015.80</td>\n",
              "    </tr>\n",
              "    <tr>\n",
              "      <th>2522313</th>\n",
              "      <td>700.0</td>\n",
              "      <td>0.90</td>\n",
              "      <td>720.30</td>\n",
              "    </tr>\n",
              "    <tr>\n",
              "      <th>4742083</th>\n",
              "      <td>600.0</td>\n",
              "      <td>0.78</td>\n",
              "      <td>602.80</td>\n",
              "    </tr>\n",
              "    <tr>\n",
              "      <th>7616701</th>\n",
              "      <td>575.0</td>\n",
              "      <td>168.40</td>\n",
              "      <td>596.42</td>\n",
              "    </tr>\n",
              "    <tr>\n",
              "      <th>267425</th>\n",
              "      <td>544.5</td>\n",
              "      <td>117.83</td>\n",
              "      <td>561.92</td>\n",
              "    </tr>\n",
              "    <tr>\n",
              "      <th>...</th>\n",
              "      <td>...</td>\n",
              "      <td>...</td>\n",
              "      <td>...</td>\n",
              "    </tr>\n",
              "    <tr>\n",
              "      <th>3198914</th>\n",
              "      <td>0.0</td>\n",
              "      <td>0.10</td>\n",
              "      <td>0.30</td>\n",
              "    </tr>\n",
              "    <tr>\n",
              "      <th>3513702</th>\n",
              "      <td>0.0</td>\n",
              "      <td>12.70</td>\n",
              "      <td>110.00</td>\n",
              "    </tr>\n",
              "    <tr>\n",
              "      <th>10458468</th>\n",
              "      <td>0.0</td>\n",
              "      <td>8.90</td>\n",
              "      <td>0.30</td>\n",
              "    </tr>\n",
              "    <tr>\n",
              "      <th>10919413</th>\n",
              "      <td>0.0</td>\n",
              "      <td>7.00</td>\n",
              "      <td>14.05</td>\n",
              "    </tr>\n",
              "    <tr>\n",
              "      <th>9675039</th>\n",
              "      <td>0.0</td>\n",
              "      <td>2.00</td>\n",
              "      <td>0.30</td>\n",
              "    </tr>\n",
              "  </tbody>\n",
              "</table>\n",
              "<p>12740133 rows × 3 columns</p>\n",
              "</div>"
            ],
            "text/plain": [
              "          fare_amount  trip_distance  total_amount\n",
              "513922         6012.5           0.20       6015.80\n",
              "2522313         700.0           0.90        720.30\n",
              "4742083         600.0           0.78        602.80\n",
              "7616701         575.0         168.40        596.42\n",
              "267425          544.5         117.83        561.92\n",
              "...               ...            ...           ...\n",
              "3198914           0.0           0.10          0.30\n",
              "3513702           0.0          12.70        110.00\n",
              "10458468          0.0           8.90          0.30\n",
              "10919413          0.0           7.00         14.05\n",
              "9675039           0.0           2.00          0.30\n",
              "\n",
              "[12740133 rows x 3 columns]"
            ]
          },
          "metadata": {},
          "execution_count": 35
        }
      ]
    },
    {
      "cell_type": "code",
      "metadata": {
        "id": "vlD4-cc1YfUx"
      },
      "source": [
        "data.drop(data[(data['fare_amount'] > 100) & (data['trip_distance'] < 0.3)].index, inplace=True)"
      ],
      "execution_count": null,
      "outputs": []
    },
    {
      "cell_type": "markdown",
      "metadata": {
        "id": "NKMvmFlUnRQD"
      },
      "source": [
        "Итоговое преобразование должно заключаться в преобразовании флага store_and_fwd_flag для ухода от категориального признака в сторону вещественного. Произведем нужный маппинг"
      ]
    },
    {
      "cell_type": "code",
      "metadata": {
        "colab": {
          "base_uri": "https://localhost:8080/"
        },
        "id": "dX1LL0a7nQjT",
        "outputId": "18b48ae6-2ff3-47d1-baf7-6f9f298547ad"
      },
      "source": [
        "data['store_and_fwd_flag'].value_counts()"
      ],
      "execution_count": null,
      "outputs": [
        {
          "output_type": "execute_result",
          "data": {
            "text/plain": [
              "N    12609539\n",
              "Y      130298\n",
              "Name: store_and_fwd_flag, dtype: int64"
            ]
          },
          "metadata": {},
          "execution_count": 37
        }
      ]
    },
    {
      "cell_type": "code",
      "metadata": {
        "id": "-ttQaptknser"
      },
      "source": [
        "# MAP from N to 0 and Y means 1\n",
        "MAPPER = {'N': 0, \n",
        "          'Y': 1}"
      ],
      "execution_count": null,
      "outputs": []
    },
    {
      "cell_type": "code",
      "metadata": {
        "id": "R8ZtPG8vnyLC"
      },
      "source": [
        "data['store_and_fwd_flag'] = data['store_and_fwd_flag'].map(MAPPER)"
      ],
      "execution_count": null,
      "outputs": []
    },
    {
      "cell_type": "code",
      "metadata": {
        "colab": {
          "base_uri": "https://localhost:8080/"
        },
        "id": "QJrU9_rtoBkq",
        "outputId": "be68039f-2859-4e9f-cbfb-c9e875b2890f"
      },
      "source": [
        "data['store_and_fwd_flag'].value_counts()"
      ],
      "execution_count": null,
      "outputs": [
        {
          "output_type": "execute_result",
          "data": {
            "text/plain": [
              "0    12609539\n",
              "1      130298\n",
              "Name: store_and_fwd_flag, dtype: int64"
            ]
          },
          "metadata": {},
          "execution_count": 40
        }
      ]
    },
    {
      "cell_type": "markdown",
      "metadata": {
        "id": "X4EIGE2BdFR0"
      },
      "source": [
        "Финально уберем наблюдения, в которых количество пассажиров больше 5, ведь речь идет о желтых такси, выглядит крайне сомнительным, что в них может поместиться более 5 человек."
      ]
    },
    {
      "cell_type": "code",
      "metadata": {
        "id": "3Hp9DPfwdQSO"
      },
      "source": [
        "data.drop(data[data['passenger_count'] > 5].index, inplace=True)"
      ],
      "execution_count": null,
      "outputs": []
    },
    {
      "cell_type": "markdown",
      "metadata": {
        "id": "VCHYkwykdHGt"
      },
      "source": [
        "# Корреляции признаков"
      ]
    },
    {
      "cell_type": "code",
      "metadata": {
        "id": "m6Os-hVZlk5Y"
      },
      "source": [
        "correlation_matrix = data.corr()"
      ],
      "execution_count": null,
      "outputs": []
    },
    {
      "cell_type": "code",
      "metadata": {
        "colab": {
          "base_uri": "https://localhost:8080/"
        },
        "id": "TjqAEOR9mFJE",
        "outputId": "17be4ea5-ae8d-4a16-dabc-6ec33ef6574a"
      },
      "source": [
        "correlation_matrix['total_amount'].sort_values(ascending=False)"
      ],
      "execution_count": null,
      "outputs": [
        {
          "output_type": "execute_result",
          "data": {
            "text/plain": [
              "total_amount             1.000000\n",
              "fare_amount              0.977708\n",
              "trip_distance            0.913877\n",
              "duration_min             0.811089\n",
              "tip_amount               0.706935\n",
              "tolls_amount             0.675388\n",
              "RatecodeID               0.276039\n",
              "price_min                0.091237\n",
              "price_in_mile            0.063365\n",
              "miles_in_min             0.053170\n",
              "VendorID                 0.019663\n",
              "passenger_count          0.013623\n",
              "extra                    0.007594\n",
              "store_and_fwd_flag      -0.000840\n",
              "improvement_surcharge   -0.008071\n",
              "is_weekend              -0.018002\n",
              "PULocationID            -0.080180\n",
              "DOLocationID            -0.087884\n",
              "payment_type            -0.116506\n",
              "congestion_surcharge    -0.175442\n",
              "mta_tax                 -0.308010\n",
              "Name: total_amount, dtype: float64"
            ]
          },
          "metadata": {},
          "execution_count": 29
        }
      ]
    },
    {
      "cell_type": "markdown",
      "metadata": {
        "id": "FBZ9oAHZm4SX"
      },
      "source": [
        "Данные результаты не удивляют: тариф действительно должен радикальным образом регулировать финальную цену. Так как тариф зависим от продолжительности поездки и количества пройденного расстояния, то эти объясняется сильная корреляция между тоговой ценой и этими признаками. Аналогично и про tip_amount, tools_amount, которые по сути всегда прибавляются к fare_amount для определения total_amount. Также присутствует зависимость с RatecodeId, которая является неким кодом-рейтинга поездки, которые, очевидно, должны повышать цену (условно, Nassau or Westchester - далекие точки Нью-Йорка, поэтому тариф для них выше, ровно как и для аэропорта)"
      ]
    },
    {
      "cell_type": "markdown",
      "metadata": {
        "id": "_TtDKt3E_fIJ"
      },
      "source": [
        "#  Распределение стоимости поездки"
      ]
    },
    {
      "cell_type": "code",
      "metadata": {
        "colab": {
          "base_uri": "https://localhost:8080/",
          "height": 308
        },
        "id": "l1V80Gg63SE6",
        "outputId": "4776a896-c59e-4e58-8688-6d35aad677d4"
      },
      "source": [
        "hist_plot = sns.histplot(data=data[data['total_amount'] < 200], x='total_amount', bins = 50)\n",
        "hist_plot.set(xlim=(0,60))"
      ],
      "execution_count": null,
      "outputs": [
        {
          "output_type": "execute_result",
          "data": {
            "text/plain": [
              "[(0.0, 60.0)]"
            ]
          },
          "metadata": {},
          "execution_count": 30
        },
        {
          "output_type": "display_data",
          "data": {
            "image/png": "[encoded data removed]",
            "text/plain": [
              "<Figure size 432x288 with 1 Axes>"
            ]
          },
          "metadata": {
            "needs_background": "light"
          }
        }
      ]
    },
    {
      "cell_type": "markdown",
      "metadata": {
        "id": "vw40uG1xSjMS"
      },
      "source": [
        "Распределение, конечно, не выглядит нормальным. Проверим это более строго с помощью методов.\n",
        "## Критерий Шапиро-Уилка"
      ]
    },
    {
      "cell_type": "code",
      "metadata": {
        "colab": {
          "base_uri": "https://localhost:8080/"
        },
        "id": "GO5uTYx7SsCQ",
        "outputId": "4f81abdc-caa9-4365-9c55-a3217689c9b7"
      },
      "source": [
        "shapiro(data['total_amount'])"
      ],
      "execution_count": null,
      "outputs": [
        {
          "output_type": "stream",
          "text": [
            "/usr/local/lib/python3.7/dist-packages/scipy/stats/morestats.py:1676: UserWarning: p-value may not be accurate for N > 5000.\n",
            "  warnings.warn(\"p-value may not be accurate for N > 5000.\")\n"
          ],
          "name": "stderr"
        },
        {
          "output_type": "execute_result",
          "data": {
            "text/plain": [
              "(0.6688827276229858, 0.0)"
            ]
          },
          "metadata": {},
          "execution_count": 32
        }
      ]
    },
    {
      "cell_type": "markdown",
      "metadata": {
        "id": "CqwD7tr4Wc7B"
      },
      "source": [
        "Тест Шапиро-Уилка непоказателен для N > 5000, поэтому воспользуемся другими проверками\n",
        "## QQPLOT"
      ]
    },
    {
      "cell_type": "code",
      "metadata": {
        "colab": {
          "base_uri": "https://localhost:8080/",
          "height": 279
        },
        "id": "KT29oK5ES1WZ",
        "outputId": "a4aebf7e-1089-4543-dc82-87246e8de279"
      },
      "source": [
        "sm.qqplot(data['total_amount'], line='45')\n",
        "plt.show()"
      ],
      "execution_count": null,
      "outputs": [
        {
          "output_type": "display_data",
          "data": {
            "image/png": "[encoded data removed]",
            "text/plain": [
              "<Figure size 432x288 with 1 Axes>"
            ]
          },
          "metadata": {
            "needs_background": "light"
          }
        }
      ]
    },
    {
      "cell_type": "markdown",
      "metadata": {
        "id": "jmkW-vtrWwQD"
      },
      "source": [
        "Как видно, мы не получили прямую, направленную под 45 градусов, значит, наше распределение далеко от нормального, что подтверждается и видом самого распределения."
      ]
    },
    {
      "cell_type": "markdown",
      "metadata": {
        "id": "uHRx-f6PZwvi"
      },
      "source": [
        "## Normal-test\n",
        "Проверка распределения по третьему и чертвертому моментам - ассиметрии и эксцессу соответственно.\n",
        "Нулевая гипотеза заключается в том, что данные принадлежат нормальному распределению."
      ]
    },
    {
      "cell_type": "code",
      "metadata": {
        "colab": {
          "base_uri": "https://localhost:8080/"
        },
        "id": "2jFhsrXmWaIT",
        "outputId": "f4dea30a-c20e-45a1-f8d9-792de51a78fb"
      },
      "source": [
        "print('p-value = {}'.format(st.normaltest(data['total_amount'])[1]))"
      ],
      "execution_count": null,
      "outputs": [
        {
          "output_type": "stream",
          "text": [
            "p-value = 0.0\n"
          ],
          "name": "stdout"
        }
      ]
    },
    {
      "cell_type": "markdown",
      "metadata": {
        "id": "c5OujH3tamKC"
      },
      "source": [
        "Отвергаем нулевую гипотезу и получаем, что данные не должны быть нормальными.\n",
        "\n",
        "То есть наше значение стоимости поездки не является нормально распределенной величиной. По идее, это накладывает ограничения на работу статистических методов, которые мы можем применять. Тогда с формальной точки зрения, мы не можем использовать линейную модель для предсказания цены тарифа. \n",
        "В действительности, ненормальность распределения цены не вызывает удивления: цена зависит от множества факторов, включая выбросы (которые мы пытались удалить)"
      ]
    },
    {
      "cell_type": "markdown",
      "metadata": {
        "id": "kskIYxdedn7b"
      },
      "source": [
        "# Model evaluating\n",
        "В качестве baseline возьмем модель бустинга Lightgbm (потому как даже линейная регрессия не считается из-за проблем с оперативкой даже на колабе) Для корректного использования алгоритма произведем нормализацию нужных признаков.  Преобразуем данные с помощью тренировочной выборки и тестовую выборку для того, чтобы не было leak-ов."
      ]
    },
    {
      "cell_type": "code",
      "metadata": {
        "id": "H59k99_EapBN"
      },
      "source": [
        "from sklearn.model_selection import train_test_split\n",
        "from sklearn.preprocessing import StandardScaler\n",
        "from sklearn.metrics import confusion_matrix, mean_squared_error\n",
        "from sklearn.linear_model import ElasticNetCV, SGDRegressor\n",
        "import lightgbm as lgb"
      ],
      "execution_count": null,
      "outputs": []
    },
    {
      "cell_type": "code",
      "metadata": {
        "colab": {
          "base_uri": "https://localhost:8080/",
          "height": 224
        },
        "id": "fDk64xOQgcCx",
        "outputId": "3f19f24d-f838-4f9d-beb6-110d853a8ba2"
      },
      "source": [
        "data.head()"
      ],
      "execution_count": null,
      "outputs": [
        {
          "output_type": "execute_result",
          "data": {
            "text/html": [
              "<div>\n",
              "<style scoped>\n",
              "    .dataframe tbody tr th:only-of-type {\n",
              "        vertical-align: middle;\n",
              "    }\n",
              "\n",
              "    .dataframe tbody tr th {\n",
              "        vertical-align: top;\n",
              "    }\n",
              "\n",
              "    .dataframe thead th {\n",
              "        text-align: right;\n",
              "    }\n",
              "</style>\n",
              "<table border=\"1\" class=\"dataframe\">\n",
              "  <thead>\n",
              "    <tr style=\"text-align: right;\">\n",
              "      <th></th>\n",
              "      <th>VendorID</th>\n",
              "      <th>tpep_pickup_datetime</th>\n",
              "      <th>tpep_dropoff_datetime</th>\n",
              "      <th>passenger_count</th>\n",
              "      <th>trip_distance</th>\n",
              "      <th>RatecodeID</th>\n",
              "      <th>store_and_fwd_flag</th>\n",
              "      <th>PULocationID</th>\n",
              "      <th>DOLocationID</th>\n",
              "      <th>payment_type</th>\n",
              "      <th>fare_amount</th>\n",
              "      <th>extra</th>\n",
              "      <th>mta_tax</th>\n",
              "      <th>tip_amount</th>\n",
              "      <th>tolls_amount</th>\n",
              "      <th>improvement_surcharge</th>\n",
              "      <th>total_amount</th>\n",
              "      <th>congestion_surcharge</th>\n",
              "      <th>duration_min</th>\n",
              "      <th>price_min</th>\n",
              "      <th>miles_in_min</th>\n",
              "      <th>day_of_week</th>\n",
              "      <th>is_weekend</th>\n",
              "      <th>price_in_mile</th>\n",
              "    </tr>\n",
              "  </thead>\n",
              "  <tbody>\n",
              "    <tr>\n",
              "      <th>0</th>\n",
              "      <td>1</td>\n",
              "      <td>2019-12-01 00:26:58</td>\n",
              "      <td>2019-12-01 00:41:45</td>\n",
              "      <td>1</td>\n",
              "      <td>4.2</td>\n",
              "      <td>1</td>\n",
              "      <td>0</td>\n",
              "      <td>142</td>\n",
              "      <td>116</td>\n",
              "      <td>2</td>\n",
              "      <td>14.5</td>\n",
              "      <td>3.0</td>\n",
              "      <td>0.5</td>\n",
              "      <td>0.00</td>\n",
              "      <td>0.0</td>\n",
              "      <td>0.3</td>\n",
              "      <td>18.30</td>\n",
              "      <td>2.5</td>\n",
              "      <td>14.783333</td>\n",
              "      <td>1.237880</td>\n",
              "      <td>0.284104</td>\n",
              "      <td>Sunday</td>\n",
              "      <td>1</td>\n",
              "      <td>4.357143</td>\n",
              "    </tr>\n",
              "    <tr>\n",
              "      <th>3</th>\n",
              "      <td>1</td>\n",
              "      <td>2019-12-01 00:12:03</td>\n",
              "      <td>2019-12-01 00:33:19</td>\n",
              "      <td>2</td>\n",
              "      <td>9.4</td>\n",
              "      <td>1</td>\n",
              "      <td>0</td>\n",
              "      <td>138</td>\n",
              "      <td>25</td>\n",
              "      <td>1</td>\n",
              "      <td>28.5</td>\n",
              "      <td>0.5</td>\n",
              "      <td>0.5</td>\n",
              "      <td>10.00</td>\n",
              "      <td>0.0</td>\n",
              "      <td>0.3</td>\n",
              "      <td>39.80</td>\n",
              "      <td>0.0</td>\n",
              "      <td>21.266667</td>\n",
              "      <td>1.871473</td>\n",
              "      <td>0.442006</td>\n",
              "      <td>Sunday</td>\n",
              "      <td>1</td>\n",
              "      <td>4.234043</td>\n",
              "    </tr>\n",
              "    <tr>\n",
              "      <th>4</th>\n",
              "      <td>1</td>\n",
              "      <td>2019-12-01 00:05:27</td>\n",
              "      <td>2019-12-01 00:16:32</td>\n",
              "      <td>2</td>\n",
              "      <td>1.6</td>\n",
              "      <td>1</td>\n",
              "      <td>0</td>\n",
              "      <td>161</td>\n",
              "      <td>237</td>\n",
              "      <td>2</td>\n",
              "      <td>9.0</td>\n",
              "      <td>3.0</td>\n",
              "      <td>0.5</td>\n",
              "      <td>0.00</td>\n",
              "      <td>0.0</td>\n",
              "      <td>0.3</td>\n",
              "      <td>12.80</td>\n",
              "      <td>2.5</td>\n",
              "      <td>11.083333</td>\n",
              "      <td>1.154887</td>\n",
              "      <td>0.144361</td>\n",
              "      <td>Sunday</td>\n",
              "      <td>1</td>\n",
              "      <td>8.000000</td>\n",
              "    </tr>\n",
              "    <tr>\n",
              "      <th>5</th>\n",
              "      <td>1</td>\n",
              "      <td>2019-12-01 00:58:51</td>\n",
              "      <td>2019-12-01 01:08:37</td>\n",
              "      <td>2</td>\n",
              "      <td>1.0</td>\n",
              "      <td>1</td>\n",
              "      <td>0</td>\n",
              "      <td>161</td>\n",
              "      <td>230</td>\n",
              "      <td>2</td>\n",
              "      <td>6.5</td>\n",
              "      <td>3.0</td>\n",
              "      <td>0.5</td>\n",
              "      <td>0.00</td>\n",
              "      <td>0.0</td>\n",
              "      <td>0.3</td>\n",
              "      <td>10.30</td>\n",
              "      <td>2.5</td>\n",
              "      <td>9.766667</td>\n",
              "      <td>1.054608</td>\n",
              "      <td>0.102389</td>\n",
              "      <td>Sunday</td>\n",
              "      <td>1</td>\n",
              "      <td>10.300000</td>\n",
              "    </tr>\n",
              "    <tr>\n",
              "      <th>9</th>\n",
              "      <td>1</td>\n",
              "      <td>2019-12-01 00:19:48</td>\n",
              "      <td>2019-12-01 00:24:18</td>\n",
              "      <td>1</td>\n",
              "      <td>0.9</td>\n",
              "      <td>1</td>\n",
              "      <td>0</td>\n",
              "      <td>148</td>\n",
              "      <td>4</td>\n",
              "      <td>1</td>\n",
              "      <td>5.5</td>\n",
              "      <td>3.0</td>\n",
              "      <td>0.5</td>\n",
              "      <td>1.85</td>\n",
              "      <td>0.0</td>\n",
              "      <td>0.3</td>\n",
              "      <td>11.15</td>\n",
              "      <td>2.5</td>\n",
              "      <td>4.500000</td>\n",
              "      <td>2.477778</td>\n",
              "      <td>0.200000</td>\n",
              "      <td>Sunday</td>\n",
              "      <td>1</td>\n",
              "      <td>12.388889</td>\n",
              "    </tr>\n",
              "  </tbody>\n",
              "</table>\n",
              "</div>"
            ],
            "text/plain": [
              "   VendorID tpep_pickup_datetime  ... is_weekend  price_in_mile\n",
              "0         1  2019-12-01 00:26:58  ...          1       4.357143\n",
              "3         1  2019-12-01 00:12:03  ...          1       4.234043\n",
              "4         1  2019-12-01 00:05:27  ...          1       8.000000\n",
              "5         1  2019-12-01 00:58:51  ...          1      10.300000\n",
              "9         1  2019-12-01 00:19:48  ...          1      12.388889\n",
              "\n",
              "[5 rows x 24 columns]"
            ]
          },
          "metadata": {},
          "execution_count": 27
        }
      ]
    },
    {
      "cell_type": "code",
      "metadata": {
        "id": "m610Y8imgTG3"
      },
      "source": [
        "# We need to drop some features in order to train \n",
        "# Drop: tpep_pickup_datetime, tpep_dropoff_datetime, price_in_mile\n",
        "# because 2 last features are just part of total_amount - target\n",
        "# target: total_amount\n",
        "X = data.drop(['tpep_pickup_datetime', 'tpep_dropoff_datetime', 'price_in_mile', 'day_of_week', 'total_amount', 'price_min'], axis=1)\n",
        "y  = data['total_amount']"
      ],
      "execution_count": null,
      "outputs": []
    },
    {
      "cell_type": "code",
      "metadata": {
        "id": "ulSuKagFhTKT"
      },
      "source": [
        "# X_train, X_test, y_train, y_test = train_test_split(X, y, test_size = 0.25, random_state = 42)"
      ],
      "execution_count": null,
      "outputs": []
    },
    {
      "cell_type": "markdown",
      "metadata": {
        "id": "a_XIOJzcI_pI"
      },
      "source": [
        "Необходимо откладывать и валидационную выборку для того, чтобы выбрать лучшую модель. Но так как модель обучаем одну (baseline) без перебора гиперпараметров, то можно сразу оценить качество на тестовой выборке."
      ]
    },
    {
      "cell_type": "code",
      "metadata": {
        "id": "ITnQDEUChnqw"
      },
      "source": [
        "scaler = StandardScaler()\n",
        "X_train = scaler.fit_transform(X_train)\n",
        "X_test = scaler.transform(X_test)"
      ],
      "execution_count": null,
      "outputs": []
    },
    {
      "cell_type": "code",
      "metadata": {
        "id": "RqM5Mus5fZ-J"
      },
      "source": [
        "params = {\n",
        "        'boosting_type':'gbdt',\n",
        "        'objective': 'regression',\n",
        "        'nthread': -1,\n",
        "        'verbose': 0,\n",
        "        'num_leaves': 31,\n",
        "        'learning_rate': 0.05,\n",
        "        'max_depth': -1,\n",
        "        'subsample': 0.8,\n",
        "        'subsample_freq': 1,\n",
        "        'colsample_bytree': 0.6,\n",
        "        'reg_aplha': 1,\n",
        "        'reg_lambda': 0.001,\n",
        "        'metric': 'rmse',\n",
        "        'min_split_gain': 0.5,\n",
        "        'min_child_weight': 1,\n",
        "        'min_child_samples': 10,\n",
        "        'scale_pos_weight':1     \n",
        "}"
      ],
      "execution_count": null,
      "outputs": []
    },
    {
      "cell_type": "code",
      "metadata": {
        "id": "gVP_jd1hBYKB"
      },
      "source": [
        "train_dataset = lgb.Dataset(data=X_train, label=y_train)"
      ],
      "execution_count": null,
      "outputs": []
    },
    {
      "cell_type": "code",
      "metadata": {
        "id": "mXxryWpLjMGB"
      },
      "source": [
        "model = lgb.train(params=params, train_set=train_dataset, num_boost_round=300)"
      ],
      "execution_count": null,
      "outputs": []
    },
    {
      "cell_type": "code",
      "metadata": {
        "id": "UjsLvxtHlkkf"
      },
      "source": [
        "y_pred = model.predict(X_test, num_iteration=model.best_iteration)"
      ],
      "execution_count": null,
      "outputs": []
    },
    {
      "cell_type": "code",
      "metadata": {
        "colab": {
          "base_uri": "https://localhost:8080/"
        },
        "id": "kr616vjZl2bk",
        "outputId": "7f49c2fd-2613-4a43-edde-0a1354aba07a"
      },
      "source": [
        "mean_squared_error(y_test, y_pred)"
      ],
      "execution_count": null,
      "outputs": [
        {
          "output_type": "execute_result",
          "data": {
            "text/plain": [
              "0.8221954541622083"
            ]
          },
          "metadata": {},
          "execution_count": 37
        }
      ]
    },
    {
      "cell_type": "code",
      "metadata": {
        "id": "0gRMSWBsSwIP"
      },
      "source": [
        "del train_dataset\n",
        "del X_train\n",
        "del y_train\n",
        "del y_pred\n",
        "del X_test"
      ],
      "execution_count": null,
      "outputs": []
    },
    {
      "cell_type": "markdown",
      "metadata": {
        "id": "q7uqmC1rbJVN"
      },
      "source": [
        "По ощущению, скидки могут быть в дни 24-25 декабря. 1-2 января, 18 января и 25 января (см. график ниже)"
      ]
    },
    {
      "cell_type": "code",
      "metadata": {
        "id": "BEVd1nGVdE37"
      },
      "source": [
        "condition_christmas = (data['tpep_dropoff_datetime'].dt.date >= pd.Timestamp('2019-12-24')) & (data['tpep_dropoff_datetime'].dt.date <= pd.Timestamp('2019-12-25'))\n",
        "condition_new_year = (data['tpep_dropoff_datetime'].dt.date >= pd.Timestamp('2020-01-01')) & (data['tpep_dropoff_datetime'].dt.date <= pd.Timestamp('2020-01-02'))\n",
        "condition_18_jan = (data['tpep_dropoff_datetime'].dt.date >= pd.Timestamp('2020-01-18')) & (data['tpep_dropoff_datetime'].dt.date < pd.Timestamp('2020-01-19'))\n",
        "condition_25_jan = (data['tpep_dropoff_datetime'].dt.date >= pd.Timestamp('2020-01-25')) & (data['tpep_dropoff_datetime'].dt.date < pd.Timestamp('2020-01-26'))"
      ],
      "execution_count": null,
      "outputs": []
    },
    {
      "cell_type": "code",
      "metadata": {
        "id": "nlz2iXdobIXd"
      },
      "source": [
        "X_predict = X[condition_christmas | condition_new_year | condition_18_jan | condition_25_jan]"
      ],
      "execution_count": null,
      "outputs": []
    },
    {
      "cell_type": "code",
      "metadata": {
        "id": "QhW91v98hlta"
      },
      "source": [
        "y_predict = y[condition_christmas | condition_new_year | condition_18_jan | condition_25_jan]"
      ],
      "execution_count": null,
      "outputs": []
    },
    {
      "cell_type": "code",
      "metadata": {
        "colab": {
          "base_uri": "https://localhost:8080/"
        },
        "id": "Oq2OrlklfkSX",
        "outputId": "8a0aacb6-a7da-46e4-eaa3-197d62842aff"
      },
      "source": [
        "X_predict.shape[0]"
      ],
      "execution_count": null,
      "outputs": [
        {
          "output_type": "execute_result",
          "data": {
            "text/plain": [
              "949941"
            ]
          },
          "metadata": {},
          "execution_count": 36
        }
      ]
    },
    {
      "cell_type": "code",
      "metadata": {
        "id": "3V6w-dNvfbhz"
      },
      "source": [
        "X_train = X[~(condition_christmas | condition_new_year | condition_18_jan | condition_25_jan)]"
      ],
      "execution_count": null,
      "outputs": []
    },
    {
      "cell_type": "code",
      "metadata": {
        "id": "jy9fKhiMht2T"
      },
      "source": [
        "y_train = y[~(condition_christmas | condition_new_year | condition_18_jan | condition_25_jan)]"
      ],
      "execution_count": null,
      "outputs": []
    },
    {
      "cell_type": "code",
      "metadata": {
        "colab": {
          "base_uri": "https://localhost:8080/"
        },
        "id": "P7SmGQwDfrd-",
        "outputId": "290075f5-6452-449b-9203-455ef66a401d"
      },
      "source": [
        "X_train.shape[0]"
      ],
      "execution_count": null,
      "outputs": [
        {
          "output_type": "execute_result",
          "data": {
            "text/plain": [
              "11512672"
            ]
          },
          "metadata": {},
          "execution_count": 39
        }
      ]
    },
    {
      "cell_type": "code",
      "metadata": {
        "id": "m6EPE7tpgBzF"
      },
      "source": [
        "assert X_train.shape[0] + X_predict.shape[0] == X.shape[0]"
      ],
      "execution_count": null,
      "outputs": []
    },
    {
      "cell_type": "code",
      "metadata": {
        "id": "K35rv_dkSmya"
      },
      "source": [
        "scaler = StandardScaler()\n",
        "X_train_scaled = scaler.fit_transform(X_train)\n",
        "X_predict_scaled = scaler.transform(X_predict)"
      ],
      "execution_count": null,
      "outputs": []
    },
    {
      "cell_type": "code",
      "metadata": {
        "id": "eyXLxlhkSh2C"
      },
      "source": [
        "full_dataset = lgb.Dataset(data=X_train_scaled, label=y_train)"
      ],
      "execution_count": null,
      "outputs": []
    },
    {
      "cell_type": "code",
      "metadata": {
        "id": "I90_LkKOXEyU"
      },
      "source": [
        "model = lgb.train(params=params, train_set=full_dataset, num_boost_round=300)"
      ],
      "execution_count": null,
      "outputs": []
    },
    {
      "cell_type": "code",
      "metadata": {
        "id": "d4G63cubl-xB"
      },
      "source": [
        "del X_train\n",
        "del X_train_scaled\n",
        "del y_train"
      ],
      "execution_count": null,
      "outputs": []
    },
    {
      "cell_type": "markdown",
      "metadata": {
        "id": "wtrTPGSFFZW9"
      },
      "source": [
        "## Попробуем линейную модель."
      ]
    },
    {
      "cell_type": "code",
      "metadata": {
        "id": "FcBwpjKtFOSt"
      },
      "source": [
        "linear_model = SGDRegressor(l1_ratio=0.2)"
      ],
      "execution_count": null,
      "outputs": []
    },
    {
      "cell_type": "code",
      "metadata": {
        "colab": {
          "base_uri": "https://localhost:8080/"
        },
        "id": "9kMU_Y27FVRv",
        "outputId": "bbc0b101-7eb5-40aa-bc93-a91a31bc3b3f"
      },
      "source": [
        "linear_model.fit(X_train, y_train)"
      ],
      "execution_count": null,
      "outputs": [
        {
          "output_type": "execute_result",
          "data": {
            "text/plain": [
              "SGDRegressor(alpha=0.0001, average=False, early_stopping=False, epsilon=0.1,\n",
              "             eta0=0.01, fit_intercept=True, l1_ratio=0.2,\n",
              "             learning_rate='invscaling', loss='squared_loss', max_iter=1000,\n",
              "             n_iter_no_change=5, penalty='l2', power_t=0.25, random_state=None,\n",
              "             shuffle=True, tol=0.001, validation_fraction=0.1, verbose=0,\n",
              "             warm_start=False)"
            ]
          },
          "metadata": {},
          "execution_count": 30
        }
      ]
    },
    {
      "cell_type": "code",
      "metadata": {
        "id": "0JLVZmiHNzzP"
      },
      "source": [
        "y_pred_linear = linear_model.predict(X_test)"
      ],
      "execution_count": null,
      "outputs": []
    },
    {
      "cell_type": "code",
      "metadata": {
        "colab": {
          "base_uri": "https://localhost:8080/"
        },
        "id": "0YLFw7zCGb3S",
        "outputId": "c948158d-4300-4cba-fb21-e31ab4714354"
      },
      "source": [
        "y_pred_linear"
      ],
      "execution_count": null,
      "outputs": [
        {
          "output_type": "execute_result",
          "data": {
            "text/plain": [
              "array([ 8.3639039 , 18.30183299, 16.31869802, ..., 10.23592159,\n",
              "       11.31675853, 26.68382719])"
            ]
          },
          "metadata": {},
          "execution_count": 32
        }
      ]
    },
    {
      "cell_type": "code",
      "metadata": {
        "colab": {
          "base_uri": "https://localhost:8080/"
        },
        "id": "65lI9OOGN3II",
        "outputId": "a4411467-4fac-4342-ae32-9d69c44772dc"
      },
      "source": [
        "mean_squared_error(y_test, y_pred_linear)"
      ],
      "execution_count": null,
      "outputs": [
        {
          "output_type": "execute_result",
          "data": {
            "text/plain": [
              "0.07416057953185538"
            ]
          },
          "metadata": {},
          "execution_count": 34
        }
      ]
    },
    {
      "cell_type": "code",
      "metadata": {
        "id": "HDX0AK0mSqAX"
      },
      "source": [
        "del y_pred_linear"
      ],
      "execution_count": null,
      "outputs": []
    },
    {
      "cell_type": "markdown",
      "metadata": {
        "id": "p1JeJ1RHTAWr"
      },
      "source": [
        "## Проба пера"
      ]
    },
    {
      "cell_type": "code",
      "metadata": {
        "id": "sWRYsduNtyGD"
      },
      "source": [
        "data['day_of_year'] = data['tpep_dropoff_datetime'].dt.date"
      ],
      "execution_count": null,
      "outputs": []
    },
    {
      "cell_type": "code",
      "metadata": {
        "colab": {
          "base_uri": "https://localhost:8080/"
        },
        "id": "GzpeFhRFuQmf",
        "outputId": "73e0acc4-9fd3-4ca2-ec2a-f045da9fcc36"
      },
      "source": [
        "data['day_of_year']"
      ],
      "execution_count": null,
      "outputs": [
        {
          "output_type": "execute_result",
          "data": {
            "text/plain": [
              "0           2019-12-01\n",
              "3           2019-12-01\n",
              "4           2019-12-01\n",
              "5           2019-12-01\n",
              "9           2019-12-01\n",
              "               ...    \n",
              "13184860    2020-01-31\n",
              "13184861    2020-01-31\n",
              "13184862    2020-01-31\n",
              "13184863    2020-01-31\n",
              "13184864    2020-01-31\n",
              "Name: day_of_year, Length: 12462613, dtype: object"
            ]
          },
          "metadata": {},
          "execution_count": 40
        }
      ]
    },
    {
      "cell_type": "code",
      "metadata": {
        "colab": {
          "base_uri": "https://localhost:8080/",
          "height": 343
        },
        "id": "sRdkm7x7tAwN",
        "outputId": "a68e97d5-9e06-4406-a617-13d1646a264d"
      },
      "source": [
        "plt.plot(data.groupby('day_of_year')['total_amount'].agg(np.mean), marker='o')\n",
        "plt.xlabel('Date of dropoff')\n",
        "plt.xticks(rotation=90)\n",
        "plt.ylabel('mean total amount of ride')\n",
        "plt.title('Mean total amount of ride over the dates')\n",
        "plt.show()"
      ],
      "execution_count": null,
      "outputs": [
        {
          "output_type": "display_data",
          "data": {
            "image/png": "[encoded data removed]",
            "text/plain": [
              "<Figure size 432x288 with 1 Axes>"
            ]
          },
          "metadata": {
            "needs_background": "light"
          }
        }
      ]
    },
    {
      "cell_type": "code",
      "metadata": {
        "id": "wdgwmae47yyr"
      },
      "source": [
        "total_amount_pred = model.predict(X_predict_scaled, num_iteration=model.best_iteration)\n",
        "# total_amount_pred = linear_model.predict(X)"
      ],
      "execution_count": null,
      "outputs": []
    },
    {
      "cell_type": "code",
      "metadata": {
        "colab": {
          "base_uri": "https://localhost:8080/"
        },
        "id": "d-UttpzkVAZC",
        "outputId": "930c126e-9946-45df-8e6c-fd75ca3711d7"
      },
      "source": [
        "total_amount_pred"
      ],
      "execution_count": null,
      "outputs": [
        {
          "output_type": "execute_result",
          "data": {
            "text/plain": [
              "array([31.87673568, 15.91078481, 25.74166498, ..., 12.32649836,\n",
              "       10.93802971, 21.05316247])"
            ]
          },
          "metadata": {},
          "execution_count": 48
        }
      ]
    },
    {
      "cell_type": "code",
      "metadata": {
        "colab": {
          "base_uri": "https://localhost:8080/"
        },
        "id": "udKYONsRLiE1",
        "outputId": "e1f3b7a9-1f95-4824-fae1-fd1d207bf44e"
      },
      "source": [
        "sum(total_amount_pred < 100)"
      ],
      "execution_count": null,
      "outputs": [
        {
          "output_type": "execute_result",
          "data": {
            "text/plain": [
              "948420"
            ]
          },
          "metadata": {},
          "execution_count": 49
        }
      ]
    },
    {
      "cell_type": "code",
      "metadata": {
        "id": "PR2Y_TNnUWMi"
      },
      "source": [
        "# delete all not needed data (i.e. training, testing, ...)\n",
        "del X_train\n",
        "del y_train\n",
        "del X_test \n",
        "del y_test\n",
        "del full_dataset\n",
        "del y_pred"
      ],
      "execution_count": null,
      "outputs": []
    },
    {
      "cell_type": "code",
      "metadata": {
        "colab": {
          "base_uri": "https://localhost:8080/",
          "height": 343
        },
        "id": "C4W-aO5H1BYi",
        "outputId": "34734a2f-bc39-41ed-c91b-5cd5de4618a2"
      },
      "source": [
        "plt.plot(data.groupby('day_of_year')['total_amount'].agg('count'), marker='o')\n",
        "plt.xlabel('Date of dropoff')\n",
        "plt.xticks(rotation=90)\n",
        "plt.ylabel('count of rides')\n",
        "plt.title('counts of rides over the dates')\n",
        "plt.show()"
      ],
      "execution_count": null,
      "outputs": [
        {
          "output_type": "display_data",
          "data": {
            "image/png": "[encoded data removed]",
            "text/plain": [
              "<Figure size 432x288 with 1 Axes>"
            ]
          },
          "metadata": {
            "needs_background": "light"
          }
        }
      ]
    },
    {
      "cell_type": "markdown",
      "metadata": {
        "id": "Q6gfwnpiNmYI"
      },
      "source": [
        "Предсказанные:"
      ]
    },
    {
      "cell_type": "code",
      "metadata": {
        "id": "lldpmtv_NuLx"
      },
      "source": [
        "data.loc[X_predict.index, 'total_amount_pred'] = total_amount_pred"
      ],
      "execution_count": null,
      "outputs": []
    },
    {
      "cell_type": "code",
      "metadata": {
        "id": "IJnucdosmk_B"
      },
      "source": [
        "total_amount_over_days = data.groupby('day_of_year')[['total_amount', 'total_amount_pred']].agg(np.mean)"
      ],
      "execution_count": null,
      "outputs": []
    },
    {
      "cell_type": "code",
      "metadata": {
        "colab": {
          "base_uri": "https://localhost:8080/",
          "height": 266
        },
        "id": "Pr28jUxznWyx",
        "outputId": "c61201f4-c412-4950-dda5-618e2301919a"
      },
      "source": [
        "total_amount_over_days.dropna()"
      ],
      "execution_count": null,
      "outputs": [
        {
          "output_type": "execute_result",
          "data": {
            "text/html": [
              "<div>\n",
              "<style scoped>\n",
              "    .dataframe tbody tr th:only-of-type {\n",
              "        vertical-align: middle;\n",
              "    }\n",
              "\n",
              "    .dataframe tbody tr th {\n",
              "        vertical-align: top;\n",
              "    }\n",
              "\n",
              "    .dataframe thead th {\n",
              "        text-align: right;\n",
              "    }\n",
              "</style>\n",
              "<table border=\"1\" class=\"dataframe\">\n",
              "  <thead>\n",
              "    <tr style=\"text-align: right;\">\n",
              "      <th></th>\n",
              "      <th>total_amount</th>\n",
              "      <th>total_amount_pred</th>\n",
              "    </tr>\n",
              "    <tr>\n",
              "      <th>day_of_year</th>\n",
              "      <th></th>\n",
              "      <th></th>\n",
              "    </tr>\n",
              "  </thead>\n",
              "  <tbody>\n",
              "    <tr>\n",
              "      <th>2019-12-24</th>\n",
              "      <td>16.958765</td>\n",
              "      <td>16.955688</td>\n",
              "    </tr>\n",
              "    <tr>\n",
              "      <th>2019-12-25</th>\n",
              "      <td>18.644199</td>\n",
              "      <td>18.650050</td>\n",
              "    </tr>\n",
              "    <tr>\n",
              "      <th>2020-01-01</th>\n",
              "      <td>19.489798</td>\n",
              "      <td>19.479883</td>\n",
              "    </tr>\n",
              "    <tr>\n",
              "      <th>2020-01-02</th>\n",
              "      <td>19.154842</td>\n",
              "      <td>19.145697</td>\n",
              "    </tr>\n",
              "    <tr>\n",
              "      <th>2020-01-18</th>\n",
              "      <td>17.223730</td>\n",
              "      <td>17.244056</td>\n",
              "    </tr>\n",
              "    <tr>\n",
              "      <th>2020-01-25</th>\n",
              "      <td>17.030530</td>\n",
              "      <td>17.032097</td>\n",
              "    </tr>\n",
              "  </tbody>\n",
              "</table>\n",
              "</div>"
            ],
            "text/plain": [
              "             total_amount  total_amount_pred\n",
              "day_of_year                                 \n",
              "2019-12-24      16.958765          16.955688\n",
              "2019-12-25      18.644199          18.650050\n",
              "2020-01-01      19.489798          19.479883\n",
              "2020-01-02      19.154842          19.145697\n",
              "2020-01-18      17.223730          17.244056\n",
              "2020-01-25      17.030530          17.032097"
            ]
          },
          "metadata": {},
          "execution_count": 62
        }
      ]
    },
    {
      "cell_type": "markdown",
      "metadata": {
        "id": "EIDyL2tcyhmi"
      },
      "source": [
        "Действительно можно наблюдать малое падение цены (скидка) 25 декабря, которое возможно связано с праздником Рождества у католиков. А также, скорее всего, скидка была 18 января. В то время происходили массовые мероприятия - \"женский марш\" в США, в том числе и Нью-Йорке, где собиралось рекордное число жителей города. Вполне вероятно, что ради такого мероприятия (чтобы получить большее число клиентов) такси сделали небольшую скидку (есть небольшой локальный максимум)"
      ]
    },
    {
      "cell_type": "code",
      "metadata": {
        "id": "CboTD72_uOVv"
      },
      "source": [
        ""
      ],
      "execution_count": null,
      "outputs": []
    }
  ]
}